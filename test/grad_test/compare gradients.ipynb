{
 "cells": [
  {
   "cell_type": "code",
   "execution_count": 22,
   "metadata": {},
   "outputs": [],
   "source": [
    "#!/usr/bin/env python\n",
    "\"\"\" \n",
    "\"\"\"\n",
    "__author__ = 'Adam Duster'\n",
    "__copyright__ = ''\n",
    "__credits__ = ['Adam Duster']\n",
    "__license__ = 'CC-BY-SA'\n",
    "__version__ = '0.1'\n",
    "__email__ = 'adam.duster@ucdenver.edu'\n",
    "__status__ = 'Development'\n",
    "\n",
    "import argparse\n",
    "def get_args(args=None):\n",
    "    \"\"\" This is written as a default funtion to put at beginning of all Python\n",
    "    scripts which require command line arguments. This uses the argparse module\n",
    "    which must be declared in the main program to ensure that the object is able\n",
    "    to be used by the caller\n",
    "    --Adam Duster 21 June 2017\n",
    "    \"\"\"\n",
    "    parser = argparse.ArgumentParser(description='see header of python script')\n",
    "    parser.add_argument(\n",
    "        '-i',\n",
    "        '--if_paths',\n",
    "        help='The first and second files in order',\n",
    "        nargs=2,\n",
    "        required=True)\n",
    "    parser.add_argument(\n",
    "        '-v',\n",
    "        '--verbose',\n",
    "        help='Controls the level of output, use multipe v for more output',\n",
    "        required=False,\n",
    "        action='count',\n",
    "        default=0)\n",
    "    parser.add_argument(\n",
    "        '-s',\n",
    "        '--step',\n",
    "        help='The change in coordinates between the two files',\n",
    "        required=False,\n",
    "        default=1e-6\n",
    "    )\n",
    "    parser.add_argument(\n",
    "        '-d',\n",
    "        '--debug',\n",
    "        help='Enter debug mode',\n",
    "        required=False,\n",
    "        action='store_true',\n",
    "        default=False)\n",
    "    return parser.parse_args(args)\n",
    "\n",
    "## Vars\n",
    "arg_vals = None\n",
    "args = get_args(['-i', 'step1_bf.h5', 'step2_bf.h5'])\n",
    "\n"
   ]
  },
  {
   "cell_type": "code",
   "execution_count": 26,
   "metadata": {},
   "outputs": [
    {
     "name": "stdout",
     "output_type": "stream",
     "text": [
      "step1_bf.h5\n",
      "step2_bf.h5\n",
      "[[ 2.61709938e-04 -3.25162909e-05 -1.24023267e-04]\n",
      " [ 9.31795044e-01 -1.15511964e-01 -4.41535858e-01]\n",
      " [ 6.17195450e-01  1.37647972e-02 -2.48853248e-01]\n",
      " [-2.91376599e+00  5.73273592e-01  2.14562578e+00]\n",
      " [-1.18213050e+00  1.10503988e-01  1.37148343e+00]]\n",
      "[[ 2.61709938e-04 -3.25162909e-05 -1.24023267e-04]\n",
      " [ 9.31795044e-01 -1.15511964e-01 -4.41535858e-01]\n",
      " [ 6.17195450e-01  1.37647972e-02 -2.48853248e-01]\n",
      " [-2.91376599e+00  5.73273592e-01  2.14562578e+00]\n",
      " [-1.18213050e+00  1.10503988e-01  1.37148343e+00]]\n",
      "['h_angular_sym_funcs', 'h_basis_to_molecule', 'h_rad_cartesian_gradient', 'h_radial_sym_funcs', 'molecule_to_basis_inds', 'o_angular_sym_funcs', 'o_basis_to_molecule', 'o_rad_cartesian_gradient', 'o_radial_sym_funcs']\n",
      "0\n"
     ]
    }
   ],
   "source": [
    "# Calculate the numerical gradient\n",
    "import h5py as h5\n",
    "import numpy as np\n",
    "\n",
    "key = 'h_rad_cartesian_gradient'\n",
    "#key = 'h_radial_sym_funcs'\n",
    "check = False\n",
    "check = True\n",
    "print(args.if_paths[0])\n",
    "print(args.if_paths[1])\n",
    "k = 0\n",
    "with h5.File(args.if_paths[0], 'r') as ffi, h5.File(args.if_paths[1], 'r') as nfi:\n",
    "    if check:\n",
    "        for i in range(nfi[key].shape[0]):\n",
    "            for j in range(nfi[key].shape[1]):\n",
    "                if not np.isclose(nfi[key][i,j].any(), ffi[key][i, j].any(), 1e-7):\n",
    "                    print(i, j)\n",
    "                    k += 1\n",
    "    print(nfi[key][0,:5])\n",
    "    print(ffi[key][0,:5])\n",
    "    print(list(nfi.keys()))\n",
    "    delta_symfuncs = (nfi[key][:] - ffi[key][:] ) / args.step\n",
    "print(k)"
   ]
  },
  {
   "cell_type": "code",
   "execution_count": 12,
   "metadata": {},
   "outputs": [
    {
     "name": "stdout",
     "output_type": "stream",
     "text": [
      "[[[-1.502069 -0.191259  1.435027]\n",
      "  [-0.600954 -0.596872  1.553818]\n",
      "  [-2.006598 -0.422227  2.219947]\n",
      "  [-1.744475 -0.382248 -1.309044]\n",
      "  [-1.888841 -0.479553 -0.347524]]\n",
      "\n",
      " [[-1.502169 -0.191359  1.434927]\n",
      "  [-0.601054 -0.596972  1.553718]\n",
      "  [-2.006698 -0.422327  2.219847]\n",
      "  [-1.744575 -0.382348 -1.309144]\n",
      "  [-1.888941 -0.479653 -0.347624]]]\n",
      "[[[-1.502169 -0.191359  1.434927]\n",
      "  [-0.601054 -0.596972  1.553718]\n",
      "  [-2.006698 -0.422327  2.219847]\n",
      "  [-1.744575 -0.382348 -1.309144]\n",
      "  [-1.888941 -0.479653 -0.347624]]\n",
      "\n",
      " [[-1.502169 -0.191359  1.434927]\n",
      "  [-0.601054 -0.596972  1.553718]\n",
      "  [-2.006698 -0.422327  2.219847]\n",
      "  [-1.744575 -0.382348 -1.309144]\n",
      "  [-1.888941 -0.479653 -0.347624]]]\n"
     ]
    }
   ],
   "source": [
    "key = 'cartesian_coords'\n",
    "with h5.File('step1_coords.h5', 'r') as ffi, h5.File('step2_coords.h5', 'r') as nfi:\n",
    "    print(nfi[key][0:2,:5])\n",
    "    print(ffi[key][0:2,:5])"
   ]
  },
  {
   "cell_type": "code",
   "execution_count": null,
   "metadata": {},
   "outputs": [],
   "source": []
  },
  {
   "cell_type": "code",
   "execution_count": null,
   "metadata": {},
   "outputs": [],
   "source": []
  },
  {
   "cell_type": "code",
   "execution_count": null,
   "metadata": {},
   "outputs": [],
   "source": []
  },
  {
   "cell_type": "code",
   "execution_count": null,
   "metadata": {},
   "outputs": [],
   "source": []
  }
 ],
 "metadata": {
  "kernelspec": {
   "display_name": "Python (mda)",
   "language": "python",
   "name": "mda"
  },
  "language_info": {
   "codemirror_mode": {
    "name": "ipython",
    "version": 3
   },
   "file_extension": ".py",
   "mimetype": "text/x-python",
   "name": "python",
   "nbconvert_exporter": "python",
   "pygments_lexer": "ipython3",
   "version": "3.6.6"
  }
 },
 "nbformat": 4,
 "nbformat_minor": 2
}
