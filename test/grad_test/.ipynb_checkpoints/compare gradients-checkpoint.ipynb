{
 "cells": [
  {
   "cell_type": "code",
   "execution_count": 3,
   "metadata": {},
   "outputs": [],
   "source": [
    "#!/usr/bin/env python\n",
    "\"\"\" \n",
    "\"\"\"\n",
    "__author__ = 'Adam Duster'\n",
    "__copyright__ = ''\n",
    "__credits__ = ['Adam Duster']\n",
    "__license__ = 'CC-BY-SA'\n",
    "__version__ = '0.1'\n",
    "__email__ = 'adam.duster@ucdenver.edu'\n",
    "__status__ = 'Development'\n",
    "\n",
    "import argparse\n",
    "def get_args(args=None):\n",
    "    \"\"\" This is written as a default funtion to put at beginning of all Python\n",
    "    scripts which require command line arguments. This uses the argparse module\n",
    "    which must be declared in the main program to ensure that the object is able\n",
    "    to be used by the caller\n",
    "    --Adam Duster 21 June 2017\n",
    "    \"\"\"\n",
    "    parser = argparse.ArgumentParser(description='see header of python script')\n",
    "    parser.add_argument(\n",
    "        '-i',\n",
    "        '--if_paths',\n",
    "        help='The first and second files in order',\n",
    "        nargs=2,\n",
    "        required=True)\n",
    "    parser.add_argument(\n",
    "        '-v',\n",
    "        '--verbose',\n",
    "        help='Controls the level of output, use multipe v for more output',\n",
    "        required=False,\n",
    "        action='count',\n",
    "        default=0)\n",
    "    parser.add_argument(\n",
    "        '-s',\n",
    "        '--step',\n",
    "        help='The change in coordinates between the two files',\n",
    "        required=False,\n",
    "        default=1e-6\n",
    "    )\n",
    "    parser.add_argument(\n",
    "        '-d',\n",
    "        '--debug',\n",
    "        help='Enter debug mode',\n",
    "        required=False,\n",
    "        action='store_true',\n",
    "        default=False)\n",
    "    return parser.parse_args(args)\n",
    "\n",
    "## Vars\n",
    "arg_vals = None\n",
    "args = get_args(['-i', 'step1_bf.h5', 'step2_bf.h5'])\n",
    "\n"
   ]
  },
  {
   "cell_type": "code",
   "execution_count": null,
   "metadata": {},
   "outputs": [],
   "source": []
  }
 ],
 "metadata": {
  "kernelspec": {
   "display_name": "Python (mda)",
   "language": "python",
   "name": "mda"
  },
  "language_info": {
   "codemirror_mode": {
    "name": "ipython",
    "version": 3
   },
   "file_extension": ".py",
   "mimetype": "text/x-python",
   "name": "python",
   "nbconvert_exporter": "python",
   "pygments_lexer": "ipython3",
   "version": "3.6.6"
  }
 },
 "nbformat": 4,
 "nbformat_minor": 2
}
