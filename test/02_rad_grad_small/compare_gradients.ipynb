{
 "cells": [
  {
   "cell_type": "code",
   "execution_count": 1,
   "metadata": {},
   "outputs": [],
   "source": [
    "#!/usr/bin/env python\n",
    "\"\"\" \n",
    "\"\"\"\n",
    "__author__ = 'Adam Duster'\n",
    "__copyright__ = ''\n",
    "__credits__ = ['Adam Duster']\n",
    "__license__ = 'CC-BY-SA'\n",
    "__version__ = '0.1'\n",
    "__email__ = 'adam.duster@ucdenver.edu'\n",
    "__status__ = 'Development'\n",
    "\n",
    "import argparse\n",
    "def get_args(args=None):\n",
    "    \"\"\" This is written as a default funtion to put at beginning of all Python\n",
    "    scripts which require command line arguments. This uses the argparse module\n",
    "    which must be declared in the main program to ensure that the object is able\n",
    "    to be used by the caller\n",
    "    --Adam Duster 21 June 2017\n",
    "    \"\"\"\n",
    "    parser = argparse.ArgumentParser(description='see header of python script')\n",
    "    parser.add_argument(\n",
    "        '-i',\n",
    "        '--if_paths',\n",
    "        help='The first and second files in order',\n",
    "        required=True)\n",
    "    parser.add_argument(\n",
    "        '-v',\n",
    "        '--verbose',\n",
    "        help='Controls the level of output, use multipe v for more output',\n",
    "        required=False,\n",
    "        action='count',\n",
    "        default=0)\n",
    "    parser.add_argument(\n",
    "        '-s',\n",
    "        '--step',\n",
    "        help='The change in coordinates between the two files',\n",
    "        required=False,\n",
    "        default=1e-6,\n",
    "        type=float\n",
    "    )\n",
    "    parser.add_argument(\n",
    "        '-d',\n",
    "        '--debug',\n",
    "        help='Enter debug mode',\n",
    "        required=False,\n",
    "        action='store_true',\n",
    "        default=False)\n",
    "    return parser.parse_args(args)\n",
    "\n",
    "## Vars\n",
    "arg_vals = None\n",
    "args = get_args(['-i', 'oh-bpsf.h5', '-s', '1e-6'])\n",
    "\n"
   ]
  },
  {
   "cell_type": "code",
   "execution_count": 2,
   "metadata": {},
   "outputs": [
    {
     "name": "stderr",
     "output_type": "stream",
     "text": [
      "/home/aduster/anaconda3/envs/mda/lib/python3.6/importlib/_bootstrap.py:219: RuntimeWarning: numpy.ufunc size changed, may indicate binary incompatibility. Expected 216, got 192\n",
      "  return f(*args, **kwds)\n"
     ]
    },
    {
     "name": "stdout",
     "output_type": "stream",
     "text": [
      "o\n",
      "h\n",
      "o_rad_cartesian_gradient shape:  (2, 48, 151, 3)\n"
     ]
    }
   ],
   "source": [
    "# Calculate the numerical gradient\n",
    "import h5py as h5\n",
    "import numpy as np\n",
    "\n",
    "#key = 'o_rad_cartesian_gradient'\n",
    "#key = 'h_radial_sym_funcs'\n",
    "key = 'o_radial_sym_funcs'\n",
    "ckey = 'o_rad_cartesian_gradient'\n",
    "check = False\n",
    "check = True\n",
    "print(args.if_paths[0])\n",
    "print(args.if_paths[1])\n",
    "k = 0\n",
    "with h5.File(args.if_paths, 'r') as ifi:\n",
    "    delta_symfuncs = (ifi[key][1,:] - ifi[key][0,:] ) / 1e-6\n",
    "    print(ckey, 'shape: ', ifi[ckey].shape)\n",
    "    ograd = ifi[ckey][1]\n",
    "    hgrad = ifi['h_rad_cartesian_gradient'][1]\n",
    "    o_symfuncs = ifi['o_radial_sym_funcs'][1]\n",
    "    h_symfuncs = ifi['h_radial_sym_funcs'][1]\n",
    "#print(calc)"
   ]
  },
  {
   "cell_type": "code",
   "execution_count": 3,
   "metadata": {
    "scrolled": false
   },
   "outputs": [
    {
     "ename": "NameError",
     "evalue": "name 'calc' is not defined",
     "output_type": "error",
     "traceback": [
      "\u001b[0;31m---------------------------------------------------------------------------\u001b[0m",
      "\u001b[0;31mNameError\u001b[0m                                 Traceback (most recent call last)",
      "\u001b[0;32m<ipython-input-3-019516d48839>\u001b[0m in \u001b[0;36m<module>\u001b[0;34m\u001b[0m\n\u001b[1;32m      2\u001b[0m     \u001b[0;32mif\u001b[0m \u001b[0mdelta_symfuncs\u001b[0m\u001b[0;34m[\u001b[0m\u001b[0mi\u001b[0m\u001b[0;34m]\u001b[0m \u001b[0;34m==\u001b[0m \u001b[0;36m0\u001b[0m \u001b[0;32mand\u001b[0m \u001b[0mcalc\u001b[0m\u001b[0;34m[\u001b[0m\u001b[0mi\u001b[0m\u001b[0;34m]\u001b[0m \u001b[0;34m==\u001b[0m \u001b[0;36m0\u001b[0m\u001b[0;34m:\u001b[0m\u001b[0;34m\u001b[0m\u001b[0;34m\u001b[0m\u001b[0m\n\u001b[1;32m      3\u001b[0m         \u001b[0;32mcontinue\u001b[0m\u001b[0;34m\u001b[0m\u001b[0;34m\u001b[0m\u001b[0m\n\u001b[0;32m----> 4\u001b[0;31m     \u001b[0mprint\u001b[0m\u001b[0;34m(\u001b[0m\u001b[0mdelta_symfuncs\u001b[0m\u001b[0;34m[\u001b[0m\u001b[0mi\u001b[0m\u001b[0;34m]\u001b[0m\u001b[0;34m,\u001b[0m \u001b[0mcalc\u001b[0m\u001b[0;34m[\u001b[0m\u001b[0mi\u001b[0m\u001b[0;34m]\u001b[0m\u001b[0;34m,\u001b[0m \u001b[0mcalc\u001b[0m\u001b[0;34m[\u001b[0m\u001b[0mi\u001b[0m\u001b[0;34m]\u001b[0m\u001b[0;34m-\u001b[0m\u001b[0mdelta_symfuncs\u001b[0m\u001b[0;34m[\u001b[0m\u001b[0mi\u001b[0m\u001b[0;34m]\u001b[0m\u001b[0;34m,\u001b[0m \u001b[0;34m(\u001b[0m\u001b[0mcalc\u001b[0m\u001b[0;34m[\u001b[0m\u001b[0mi\u001b[0m\u001b[0;34m]\u001b[0m\u001b[0;34m-\u001b[0m\u001b[0mdelta_symfuncs\u001b[0m\u001b[0;34m[\u001b[0m\u001b[0mi\u001b[0m\u001b[0;34m]\u001b[0m\u001b[0;34m)\u001b[0m\u001b[0;34m/\u001b[0m\u001b[0mdelta_symfuncs\u001b[0m\u001b[0;34m[\u001b[0m\u001b[0mi\u001b[0m\u001b[0;34m]\u001b[0m\u001b[0;34m)\u001b[0m\u001b[0;34m\u001b[0m\u001b[0;34m\u001b[0m\u001b[0m\n\u001b[0m",
      "\u001b[0;31mNameError\u001b[0m: name 'calc' is not defined"
     ]
    }
   ],
   "source": [
    "for i in range(delta_symfuncs.size):\n",
    "    if delta_symfuncs[i] == 0 and calc[i] == 0:\n",
    "        continue\n",
    "    print(delta_symfuncs[i], calc[i], calc[i]-delta_symfuncs[i], (calc[i]-delta_symfuncs[i])/delta_symfuncs[i])"
   ]
  },
  {
   "cell_type": "code",
   "execution_count": 4,
   "metadata": {
    "scrolled": true
   },
   "outputs": [
    {
     "name": "stdout",
     "output_type": "stream",
     "text": [
      "calc gi 0.44041252110981277\n",
      "reference_gi 0.44040811700662225\n"
     ]
    }
   ],
   "source": [
    "npa = np.asarray\n",
    "\n",
    "\n",
    "xi = npa([0.,0.,0.])\n",
    "xj = npa([1.,0.,0.])\n",
    "def calc_gi(xi, xj, rs=0.800, eta=19.531, rc=8.0, verbose=False):\n",
    "    vij = xj - xi\n",
    "    rij = np.linalg.norm(vij)\n",
    "    drijdi = -vij/rij\n",
    "    drijdj = drijdi\n",
    "    fc = 0.5 * (np.cos(np.pi*rij/rc) + 1)\n",
    "    gauss = np.exp(-eta*(rij - rs)**2)\n",
    "    gi = gauss*fc\n",
    "    if verbose:\n",
    "        print(\"rij, then rs\", rij, rs)\n",
    "        print(\"(rij-rs)**2\",(rij-rs)**2)\n",
    "        print(\"myexp\", gauss)\n",
    "        print(\"myfc\", fc)\n",
    "    \n",
    "    return gi\n",
    "\n",
    "cgi = calc_gi(xi, xj)\n",
    "print(\"calc gi\", cgi)\n",
    "print(\"reference_gi\", o_symfuncs[0])\n"
   ]
  },
  {
   "cell_type": "code",
   "execution_count": 5,
   "metadata": {},
   "outputs": [
    {
     "name": "stdout",
     "output_type": "stream",
     "text": [
      "numerical gradient:  3.475082208603819\n",
      "[3.47508988 0.         0.        ]\n"
     ]
    }
   ],
   "source": [
    "# Lets calculate the O symfunc numerical gradient\n",
    "s = 1e-6\n",
    "xi = npa([0.,0.,0.])\n",
    "xj = npa([1.,0.,0.])\n",
    "xib = np.copy(xi)\n",
    "xib = xib[0] + s\n",
    "\n",
    "agi = calc_gi(xi, xj)\n",
    "bgi = calc_gi(xib, xj)\n",
    "print(\"numerical gradient: \", (bgi - agi)/s)\n",
    "print(ograd[0,0])\n"
   ]
  },
  {
   "cell_type": "code",
   "execution_count": 6,
   "metadata": {},
   "outputs": [
    {
     "name": "stdout",
     "output_type": "stream",
     "text": [
      "1.000001\n",
      "calculated symfunc: 0.44041252110981277\n",
      "reference symfunc: 0.44040811700662225\n",
      "numerical gradient:  -3.4750755017465274\n",
      "[3.47508988 0.         0.        ]\n"
     ]
    }
   ],
   "source": [
    "# Lets calculate the H symfunc numerical gradient\n",
    "s = 1e-6\n",
    "xi = npa([1.,0.,0.])\n",
    "xj = npa([0.,0.,0.])\n",
    "xib = np.copy(xi)\n",
    "xib[0] = xib[0] + s\n",
    "\n",
    "agi = calc_gi(xi, xj)\n",
    "bgi = calc_gi(xib, xj)\n",
    "print(np.linalg.norm(xib-xj))\n",
    "print(\"calculated symfunc:\", agi)\n",
    "print(\"reference symfunc:\", h_symfuncs[24])\n",
    "print(\"numerical gradient: \", (bgi - agi)/s)\n",
    "print(hgrad[24,0])\n"
   ]
  },
  {
   "cell_type": "code",
   "execution_count": 17,
   "metadata": {},
   "outputs": [],
   "source": [
    "import h5py as h5\n",
    "import numpy as np\n",
    "hrcg = 'h_rad_cartesian_gradient'\n",
    "orcg = 'o_rad_cartesian_gradient'\n",
    "hacg = 'h_ang_cartesian_gradient'\n",
    "oacg = 'p_ang_cartesian_gradient'\n",
    "\n",
    "with h5.File('oh-bpsf.h5') as ifi:\n",
    "    gs = ifi[hrcg][:]"
   ]
  },
  {
   "cell_type": "code",
   "execution_count": 20,
   "metadata": {},
   "outputs": [
    {
     "name": "stdout",
     "output_type": "stream",
     "text": [
      "[3.47510006 0.         0.        ]\n"
     ]
    }
   ],
   "source": [
    "print(gs[0,24,0,:])\n"
   ]
  },
  {
   "cell_type": "code",
   "execution_count": null,
   "metadata": {},
   "outputs": [],
   "source": []
  }
 ],
 "metadata": {
  "kernelspec": {
   "display_name": "Python [conda env:mda]",
   "language": "python",
   "name": "conda-env-mda-py"
  },
  "language_info": {
   "codemirror_mode": {
    "name": "ipython",
    "version": 3
   },
   "file_extension": ".py",
   "mimetype": "text/x-python",
   "name": "python",
   "nbconvert_exporter": "python",
   "pygments_lexer": "ipython3",
   "version": "3.6.7"
  }
 },
 "nbformat": 4,
 "nbformat_minor": 2
}
