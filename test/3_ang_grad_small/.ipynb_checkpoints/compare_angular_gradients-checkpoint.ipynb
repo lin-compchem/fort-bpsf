{
 "cells": [
  {
   "cell_type": "code",
   "execution_count": 19,
   "metadata": {},
   "outputs": [
    {
     "name": "stdout",
     "output_type": "stream",
     "text": [
      "Test by changing y of H1 (2nd atom) by 0.000100\n",
      "h2o-bpsf.h5\n",
      "KEYS IN H5 file:  ['h_ang_cartesian_gradient', 'h_angular_sym_funcs', 'h_basis_to_molecule', 'h_rad_cartesian_gradient', 'h_radial_sym_funcs', 'molecule_to_basis_inds', 'o_ang_cartesian_gradient', 'o_angular_sym_funcs', 'o_basis_to_molecule', 'o_rad_cartesian_gradient', 'o_radial_sym_funcs']\n",
      "ang basis array dimensions:  (11, 54)\n",
      "ang grad array dimensions:  (11, 54, 151, 3)\n",
      "reference angular bpsf:  [0.00000000e+00 0.00000000e+00 0.00000000e+00 0.00000000e+00\n",
      " 0.00000000e+00 0.00000000e+00 0.00000000e+00 0.00000000e+00\n",
      " 0.00000000e+00 0.00000000e+00 0.00000000e+00 0.00000000e+00\n",
      " 0.00000000e+00 0.00000000e+00 0.00000000e+00 0.00000000e+00\n",
      " 0.00000000e+00 0.00000000e+00 0.00000000e+00 0.00000000e+00\n",
      " 0.00000000e+00 0.00000000e+00 0.00000000e+00 0.00000000e+00\n",
      " 0.00000000e+00 0.00000000e+00 0.00000000e+00 0.00000000e+00\n",
      " 0.00000000e+00 0.00000000e+00 0.00000000e+00 0.00000000e+00\n",
      " 0.00000000e+00 0.00000000e+00 0.00000000e+00 0.00000000e+00\n",
      " 8.45876597e-01 8.45876614e-01 1.05734571e-01 1.05734580e-01\n",
      " 2.58141013e-05 2.58141095e-05 7.61630701e-01 7.61630716e-01\n",
      " 9.52038348e-02 9.52038424e-02 2.32431209e-05 2.32431284e-05\n",
      " 4.77797796e-01 4.77797805e-01 5.97247227e-02 5.97247274e-02\n",
      " 1.45812294e-05 1.45812340e-05]\n",
      "0.8458765971443857\n"
     ]
    }
   ],
   "source": [
    "#!/usr/bin/env python\n",
    "\"\"\" \n",
    "\"\"\"\n",
    "__author__ = 'Adam Duster'\n",
    "__copyright__ = ''\n",
    "__credits__ = ['Adam Duster']\n",
    "__license__ = 'CC-BY-SA'\n",
    "__version__ = '0.1'\n",
    "__email__ = 'adam.duster@ucdenver.edu'\n",
    "__status__ = 'Development'\n",
    "\n",
    "import argparse\n",
    "import h5py as h5\n",
    "import numpy as np\n",
    "\n",
    "def get_args(args=None):\n",
    "    \"\"\" This is written as a default funtion to put at beginning of all Python\n",
    "    scripts which require command line arguments. This uses the argparse module\n",
    "    which must be declared in the main program to ensure that the object is able\n",
    "    to be used by the caller\n",
    "    --Adam Duster 21 June 2017\n",
    "    \"\"\"\n",
    "    parser = argparse.ArgumentParser(description='see header of python script')\n",
    "    parser.add_argument(\n",
    "        '-i',\n",
    "        '--if_paths',\n",
    "        help='The first and second files in order',\n",
    "        required=True)\n",
    "    parser.add_argument(\n",
    "        '-v',\n",
    "        '--verbose',\n",
    "        help='Controls the level of output, use multipe v for more output',\n",
    "        required=False,\n",
    "        action='count',\n",
    "        default=0)\n",
    "    parser.add_argument(\n",
    "        '-s',\n",
    "        '--step',\n",
    "        help='The change in coordinates between the two files',\n",
    "        required=False,\n",
    "        default=1e-6,\n",
    "        type=float\n",
    "    )\n",
    "    parser.add_argument(\n",
    "        '-d',\n",
    "        '--debug',\n",
    "        help='Enter debug mode',\n",
    "        required=False,\n",
    "        action='store_true',\n",
    "        default=False)\n",
    "    return parser.parse_args(args)\n",
    "\n",
    "## Vars\n",
    "arg_vals = None\n",
    "args = get_args(['-i', 'h2o-bpsf.h5','-s', '1e-4', '-d'])\n",
    "\n",
    "test = 2\n",
    "\n",
    "# different tests to examine. ind refers to structure\n",
    "# f is first, n is next  \n",
    "f = 0\n",
    "if test == 0:\n",
    "    print(\"Test by changing theta by %f\" % args.step)\n",
    "    n = 1\n",
    "if test == 1:\n",
    "    print(\"Test by changing x of H1 (2nd atom) by %f\" % args.step)\n",
    "    n = 2\n",
    "if test == 2:\n",
    "    print(\"Test by changing y of H1 (2nd atom) by %f\" % args.step)\n",
    "    n = 3\n",
    "if test == 1:\n",
    "    print(\"Test by changing z of H1 (2nd atom) by %f\" % args.step)\n",
    "    n = 4\n",
    "if test == 1:\n",
    "    print(\"Test by changing x of H2 (3rd atom) by %f\" % args.step)\n",
    "    n = 5\n",
    "if test == 1:\n",
    "    print(\"Test by changing y of H2 (3rd atom) by %f\" % args.step)\n",
    "    n = 6\n",
    "if test == 1:\n",
    "    print(\"Test by changing z of H2 (3rd atom) by %f\" % args.step)\n",
    "    n = 7\n",
    "if test == 1:\n",
    "    print(\"Test by changing x of O (1st atom) by %f\" % args.step)\n",
    "    n = 8\n",
    "if test == 1:\n",
    "    print(\"Test by changing y of O (1st atom) by %f\" % args.step)\n",
    "    n = 9\n",
    "if test == 1:\n",
    "    print(\"Test by changing z of O (1st atom) by %f\" % args.step)\n",
    "    n = 10\n",
    "# There should only be 1 set of angular symmetry funcitons\n",
    "# Lets verify this and then select them.\n",
    "key = 'o_angular_sym_funcs'\n",
    "ckey = 'o_ang_cartesian_gradient'\n",
    "check = False\n",
    "check = True\n",
    "print(args.if_paths)\n",
    "k = 0\n",
    "#bf_slice = np.arange(-18, 0, 1)\n",
    "bf_slice = np.asarray(-18)\n",
    "nsf = bf_slice.size\n",
    "debug = True\n",
    "with h5.File(args.if_paths, 'r') as nfi:\n",
    "    if args.debug:\n",
    "        print('KEYS IN H5 file: ', list(nfi.keys()))\n",
    "        dims = nfi[key].shape\n",
    "        cdims = nfi[ckey].shape\n",
    "        print(\"ang basis array dimensions: \", dims)\n",
    "        print(\"ang grad array dimensions: \", cdims)\n",
    "        print(\"reference angular bpsf: \", nfi[key][0,:])\n",
    "    if check:\n",
    "        for i in range(dims[1]):\n",
    "            if not np.isclose(nfi[key][f,i].any(), nfi[key][n, i].any(), 1e-5):\n",
    "                print(i, j)\n",
    "                k += 1\n",
    "    print(nfi[key][f,bf_slice])\n",
    "    delta_symfuncs = np.reshape((nfi[key][n,bf_slice] - nfi[key][f,bf_slice] ) / args.step, [1])\n",
    "    calc = nfi[ckey][f,bf_slice,:3,:]"
   ]
  },
  {
   "cell_type": "code",
   "execution_count": 20,
   "metadata": {
    "scrolled": false
   },
   "outputs": [
    {
     "name": "stdout",
     "output_type": "stream",
     "text": [
      "-0.7747624312404167\n",
      "3.999599999995553\n"
     ]
    }
   ],
   "source": [
    "for i in range(nsf):\n",
    "    print(delta_symfuncs[i])\n",
    "    print(calc[:].sum())\n",
    "    #print(delta_symfuncs[i], calc[i], calc[i]-delta_symfuncs[i], (calc[i]-delta_symfuncs[i])/delta_symfuncs[i])"
   ]
  },
  {
   "cell_type": "code",
   "execution_count": null,
   "metadata": {},
   "outputs": [],
   "source": []
  },
  {
   "cell_type": "code",
   "execution_count": 5,
   "metadata": {},
   "outputs": [
    {
     "name": "stdout",
     "output_type": "stream",
     "text": [
      "bf 0.84587660 changed to 0.84579912\n",
      "delta: -0.00007748\n"
     ]
    }
   ],
   "source": [
    "with h5.File(args.if_paths, 'r') as nfi:\n",
    "    f = nfi[key][f,bf_slice]\n",
    "    n = nfi[key][n,bf_slice]\n",
    "    print(\"bf {0:10.8f} changed to {1:10.8f}\".format(f, n))\n",
    "    print(\"delta: {0:10.8f}\".format(n-f))"
   ]
  },
  {
   "cell_type": "code",
   "execution_count": 14,
   "metadata": {
    "scrolled": true
   },
   "outputs": [
    {
     "name": "stdout",
     "output_type": "stream",
     "text": [
      "Numerical calculation:   -0.7747624312404167\n",
      "Analytical calculation:  [ 9.27177012e-01  9.27177012e-01 -1.85435405e-04]\n",
      "Difference (A-N):   [1.70193944 1.70193944 0.774577  ]\n"
     ]
    },
    {
     "ename": "IndexError",
     "evalue": "invalid index to scalar variable.",
     "output_type": "error",
     "traceback": [
      "\u001b[0;31m---------------------------------------------------------------------------\u001b[0m",
      "\u001b[0;31mIndexError\u001b[0m                                Traceback (most recent call last)",
      "\u001b[0;32m<ipython-input-14-d02b918d7b14>\u001b[0m in \u001b[0;36m<module>\u001b[0;34m\u001b[0m\n\u001b[1;32m      7\u001b[0m     \u001b[0mprint\u001b[0m\u001b[0;34m(\u001b[0m\u001b[0;34m\"Analytical calculation: \"\u001b[0m\u001b[0;34m,\u001b[0m \u001b[0mcalc\u001b[0m\u001b[0;34m[\u001b[0m\u001b[0mi\u001b[0m\u001b[0;34m]\u001b[0m\u001b[0;34m)\u001b[0m\u001b[0;34m\u001b[0m\u001b[0m\n\u001b[1;32m      8\u001b[0m     \u001b[0mprint\u001b[0m\u001b[0;34m(\u001b[0m\u001b[0;34m\"Difference (A-N):  \"\u001b[0m\u001b[0;34m,\u001b[0m \u001b[0mcalc\u001b[0m\u001b[0;34m[\u001b[0m\u001b[0mi\u001b[0m\u001b[0;34m]\u001b[0m\u001b[0;34m-\u001b[0m\u001b[0mdelta_symfuncs\u001b[0m\u001b[0;34m[\u001b[0m\u001b[0mi\u001b[0m\u001b[0;34m]\u001b[0m\u001b[0;34m)\u001b[0m\u001b[0;34m\u001b[0m\u001b[0m\n\u001b[0;32m----> 9\u001b[0;31m     \u001b[0mprint\u001b[0m\u001b[0;34m(\u001b[0m\u001b[0;34m\"% Difference: {0:.0%}\"\u001b[0m\u001b[0;34m.\u001b[0m\u001b[0mformat\u001b[0m\u001b[0;34m(\u001b[0m\u001b[0mdiff\u001b[0m\u001b[0;34m[\u001b[0m\u001b[0mi\u001b[0m\u001b[0;34m]\u001b[0m\u001b[0;34m/\u001b[0m\u001b[0mref\u001b[0m\u001b[0;34m[\u001b[0m\u001b[0mi\u001b[0m\u001b[0;34m]\u001b[0m\u001b[0;34m)\u001b[0m \u001b[0;34m)\u001b[0m\u001b[0;34m\u001b[0m\u001b[0m\n\u001b[0m\u001b[1;32m     10\u001b[0m     \u001b[0mprint\u001b[0m\u001b[0;34m(\u001b[0m\u001b[0mdelta_symfuncs\u001b[0m\u001b[0;34m[\u001b[0m\u001b[0mi\u001b[0m\u001b[0;34m]\u001b[0m\u001b[0;34m,\u001b[0m \u001b[0mcalc\u001b[0m\u001b[0;34m[\u001b[0m\u001b[0mi\u001b[0m\u001b[0;34m]\u001b[0m\u001b[0;34m,\u001b[0m \u001b[0;34m(\u001b[0m\u001b[0mcalc\u001b[0m\u001b[0;34m[\u001b[0m\u001b[0mi\u001b[0m\u001b[0;34m]\u001b[0m\u001b[0;34m-\u001b[0m\u001b[0mdelta_symfuncs\u001b[0m\u001b[0;34m[\u001b[0m\u001b[0mi\u001b[0m\u001b[0;34m]\u001b[0m\u001b[0;34m)\u001b[0m\u001b[0;34m/\u001b[0m\u001b[0mdelta_symfuncs\u001b[0m\u001b[0;34m[\u001b[0m\u001b[0mi\u001b[0m\u001b[0;34m]\u001b[0m\u001b[0;34m)\u001b[0m\u001b[0;34m\u001b[0m\u001b[0m\n",
      "\u001b[0;31mIndexError\u001b[0m: invalid index to scalar variable."
     ]
    }
   ],
   "source": [
    "for i in range(delta_symfuncs.size):\n",
    "    if delta_symfuncs[i] == 0 and calc[i] == 0:\n",
    "        continue\n",
    "    diff = calc[i]-delta_symfuncs[i]\n",
    "    ref = delta_symfuncs[i]\n",
    "    print(\"Numerical calculation:  \", delta_symfuncs[i])\n",
    "    print(\"Analytical calculation: \", calc[i])\n",
    "    print(\"Difference (A-N):  \", calc[i]-delta_symfuncs[i])\n",
    "    print(\"% Difference: {0:.0%}\".format(diff[i]/ref[i]) )\n",
    "    print(delta_symfuncs[i], calc[i], (calc[i]-delta_symfuncs[i])/delta_symfuncs[i])"
   ]
  },
  {
   "cell_type": "code",
   "execution_count": 16,
   "metadata": {},
   "outputs": [
    {
     "data": {
      "text/plain": [
       "()"
      ]
     },
     "execution_count": 16,
     "metadata": {},
     "output_type": "execute_result"
    }
   ],
   "source": [
    "delta_symfuncs[i].shape"
   ]
  },
  {
   "cell_type": "code",
   "execution_count": 106,
   "metadata": {
    "scrolled": true
   },
   "outputs": [
    {
     "name": "stdout",
     "output_type": "stream",
     "text": [
      "3.4570693969726562 3.4750897884368896 0.005212620689655173\n",
      "-1.8477439880371094 -1.8628629446029663 0.008182387096774194\n",
      "-1.6391277313232422 -1.6261155605316162 -0.007938472727272727\n",
      "-0.6109476089477539 -0.6067371368408203 -0.006891707317073171\n",
      "-0.22351741790771484 -0.22193479537963867 -0.007080533333333333\n",
      "-0.08940696716308594 -0.09001106023788452 0.006756666666666667\n",
      "-0.040978193283081055 -0.04100095108151436 0.0005553636363636364\n",
      "-0.020954757928848267 -0.020731238648295403 -0.010666755555555556\n",
      "-0.011408701539039612 -0.011452380567789078 0.0038285714285714286\n",
      "-0.006868503987789154 -0.006811134982854128 -0.008352474576271186\n",
      "-0.004249159246683121 -0.004307422321289778 0.013711671232876713\n",
      "-0.002852175384759903 -0.0028674746863543987 0.005364081632653062\n",
      "-0.001979060471057892 -0.001993037760257721 0.007062588235294117\n",
      "-0.0014260876923799515 -0.0014367906842380762 0.007505142857142857\n",
      "-0.001076841726899147 -0.0010685650631785393 -0.007686054054054054\n",
      "-0.0008149072527885437 -0.000816264480818063 0.0016655\n",
      "-0.0006402842700481415 -0.0006381361745297909 -0.003354909090909091\n",
      "-0.0005093170329928398 -0.0005090337945148349 -0.0005561142857142857\n",
      "-0.00040745362639427185 -0.0004132790782023221 0.014297214285714286\n",
      "-0.000341970007866621 -0.00034079200122505426 -0.0034447659574468087\n",
      "-0.0002837623469531536 -0.0002849118027370423 0.004050769230769231\n",
      "-0.00024010660126805305 -0.00024112769460771233 0.004252666666666667\n",
      "-0.00020372681319713593 -0.0002063166321022436 0.012712214285714285\n",
      "-0.00018189894035458565 -0.0001782727485988289 -0.0199352\n"
     ]
    }
   ],
   "source": [
    "for i in range(delta_symfuncs.size):\n",
    "    if delta_symfuncs[i] == 0 and calc[i] == 0:\n",
    "        continue\n",
    "    print(delta_symfuncs[i], calc[i], (calc[i]-delta_symfuncs[i])/delta_symfuncs[i])"
   ]
  },
  {
   "cell_type": "code",
   "execution_count": 48,
   "metadata": {},
   "outputs": [
    {
     "name": "stdout",
     "output_type": "stream",
     "text": [
      "step1_bf.h5\n",
      "step2_bf.h5\n",
      "Shape to check:  (1, 151, 3)\n",
      "0 0 2\n"
     ]
    },
    {
     "ename": "ValueError",
     "evalue": "Index (1) out of range (0-0)",
     "output_type": "error",
     "traceback": [
      "\u001b[0;31m---------------------------------------------------------------------------\u001b[0m",
      "\u001b[0;31mValueError\u001b[0m                                Traceback (most recent call last)",
      "\u001b[0;32m<ipython-input-48-45e7e77ad307>\u001b[0m in \u001b[0;36m<module>\u001b[0;34m\u001b[0m\n\u001b[1;32m     24\u001b[0m                         \u001b[0mprint\u001b[0m\u001b[0;34m(\u001b[0m\u001b[0mi\u001b[0m\u001b[0;34m,\u001b[0m \u001b[0mj\u001b[0m\u001b[0;34m,\u001b[0m \u001b[0ml\u001b[0m\u001b[0;34m)\u001b[0m\u001b[0;34m\u001b[0m\u001b[0m\n\u001b[1;32m     25\u001b[0m                         \u001b[0mk\u001b[0m \u001b[0;34m+=\u001b[0m \u001b[0;36m1\u001b[0m\u001b[0;34m\u001b[0m\u001b[0m\n\u001b[0;32m---> 26\u001b[0;31m     \u001b[0mprint\u001b[0m\u001b[0;34m(\u001b[0m\u001b[0mnfi\u001b[0m\u001b[0;34m[\u001b[0m\u001b[0mkey\u001b[0m\u001b[0;34m]\u001b[0m\u001b[0;34m[\u001b[0m\u001b[0;36m1\u001b[0m\u001b[0;34m,\u001b[0m\u001b[0;34m:\u001b[0m\u001b[0;36m5\u001b[0m\u001b[0;34m]\u001b[0m\u001b[0;34m)\u001b[0m\u001b[0;34m\u001b[0m\u001b[0m\n\u001b[0m\u001b[1;32m     27\u001b[0m     \u001b[0mprint\u001b[0m\u001b[0;34m(\u001b[0m\u001b[0mffi\u001b[0m\u001b[0;34m[\u001b[0m\u001b[0mkey\u001b[0m\u001b[0;34m]\u001b[0m\u001b[0;34m[\u001b[0m\u001b[0;36m1\u001b[0m\u001b[0;34m,\u001b[0m\u001b[0;34m:\u001b[0m\u001b[0;36m5\u001b[0m\u001b[0;34m]\u001b[0m\u001b[0;34m)\u001b[0m\u001b[0;34m\u001b[0m\u001b[0m\n\u001b[1;32m     28\u001b[0m     \u001b[0mprint\u001b[0m\u001b[0;34m(\u001b[0m\u001b[0mlist\u001b[0m\u001b[0;34m(\u001b[0m\u001b[0mnfi\u001b[0m\u001b[0;34m.\u001b[0m\u001b[0mkeys\u001b[0m\u001b[0;34m(\u001b[0m\u001b[0;34m)\u001b[0m\u001b[0;34m)\u001b[0m\u001b[0;34m)\u001b[0m\u001b[0;34m\u001b[0m\u001b[0m\n",
      "\u001b[0;32mh5py/_objects.pyx\u001b[0m in \u001b[0;36mh5py._objects.with_phil.wrapper\u001b[0;34m()\u001b[0m\n",
      "\u001b[0;32mh5py/_objects.pyx\u001b[0m in \u001b[0;36mh5py._objects.with_phil.wrapper\u001b[0;34m()\u001b[0m\n",
      "\u001b[0;32m~/anaconda3/envs/mda/lib/python3.6/site-packages/h5py/_hl/dataset.py\u001b[0m in \u001b[0;36m__getitem__\u001b[0;34m(self, args)\u001b[0m\n\u001b[1;32m    474\u001b[0m \u001b[0;34m\u001b[0m\u001b[0m\n\u001b[1;32m    475\u001b[0m         \u001b[0;31m# Perform the dataspace selection.\u001b[0m\u001b[0;34m\u001b[0m\u001b[0;34m\u001b[0m\u001b[0m\n\u001b[0;32m--> 476\u001b[0;31m         \u001b[0mselection\u001b[0m \u001b[0;34m=\u001b[0m \u001b[0msel\u001b[0m\u001b[0;34m.\u001b[0m\u001b[0mselect\u001b[0m\u001b[0;34m(\u001b[0m\u001b[0mself\u001b[0m\u001b[0;34m.\u001b[0m\u001b[0mshape\u001b[0m\u001b[0;34m,\u001b[0m \u001b[0margs\u001b[0m\u001b[0;34m,\u001b[0m \u001b[0mdsid\u001b[0m\u001b[0;34m=\u001b[0m\u001b[0mself\u001b[0m\u001b[0;34m.\u001b[0m\u001b[0mid\u001b[0m\u001b[0;34m)\u001b[0m\u001b[0;34m\u001b[0m\u001b[0m\n\u001b[0m\u001b[1;32m    477\u001b[0m \u001b[0;34m\u001b[0m\u001b[0m\n\u001b[1;32m    478\u001b[0m         \u001b[0;32mif\u001b[0m \u001b[0mselection\u001b[0m\u001b[0;34m.\u001b[0m\u001b[0mnselect\u001b[0m \u001b[0;34m==\u001b[0m \u001b[0;36m0\u001b[0m\u001b[0;34m:\u001b[0m\u001b[0;34m\u001b[0m\u001b[0m\n",
      "\u001b[0;32m~/anaconda3/envs/mda/lib/python3.6/site-packages/h5py/_hl/selections.py\u001b[0m in \u001b[0;36mselect\u001b[0;34m(shape, args, dsid)\u001b[0m\n\u001b[1;32m     92\u001b[0m \u001b[0;34m\u001b[0m\u001b[0m\n\u001b[1;32m     93\u001b[0m     \u001b[0msel\u001b[0m \u001b[0;34m=\u001b[0m \u001b[0mSimpleSelection\u001b[0m\u001b[0;34m(\u001b[0m\u001b[0mshape\u001b[0m\u001b[0;34m)\u001b[0m\u001b[0;34m\u001b[0m\u001b[0m\n\u001b[0;32m---> 94\u001b[0;31m     \u001b[0msel\u001b[0m\u001b[0;34m[\u001b[0m\u001b[0margs\u001b[0m\u001b[0;34m]\u001b[0m\u001b[0;34m\u001b[0m\u001b[0m\n\u001b[0m\u001b[1;32m     95\u001b[0m     \u001b[0;32mreturn\u001b[0m \u001b[0msel\u001b[0m\u001b[0;34m\u001b[0m\u001b[0m\n\u001b[1;32m     96\u001b[0m \u001b[0;34m\u001b[0m\u001b[0m\n",
      "\u001b[0;32m~/anaconda3/envs/mda/lib/python3.6/site-packages/h5py/_hl/selections.py\u001b[0m in \u001b[0;36m__getitem__\u001b[0;34m(self, args)\u001b[0m\n\u001b[1;32m    259\u001b[0m             \u001b[0;32mreturn\u001b[0m \u001b[0mself\u001b[0m\u001b[0;34m\u001b[0m\u001b[0m\n\u001b[1;32m    260\u001b[0m \u001b[0;34m\u001b[0m\u001b[0m\n\u001b[0;32m--> 261\u001b[0;31m         \u001b[0mstart\u001b[0m\u001b[0;34m,\u001b[0m \u001b[0mcount\u001b[0m\u001b[0;34m,\u001b[0m \u001b[0mstep\u001b[0m\u001b[0;34m,\u001b[0m \u001b[0mscalar\u001b[0m \u001b[0;34m=\u001b[0m \u001b[0m_handle_simple\u001b[0m\u001b[0;34m(\u001b[0m\u001b[0mself\u001b[0m\u001b[0;34m.\u001b[0m\u001b[0mshape\u001b[0m\u001b[0;34m,\u001b[0m\u001b[0margs\u001b[0m\u001b[0;34m)\u001b[0m\u001b[0;34m\u001b[0m\u001b[0m\n\u001b[0m\u001b[1;32m    262\u001b[0m \u001b[0;34m\u001b[0m\u001b[0m\n\u001b[1;32m    263\u001b[0m         \u001b[0mself\u001b[0m\u001b[0;34m.\u001b[0m\u001b[0m_id\u001b[0m\u001b[0;34m.\u001b[0m\u001b[0mselect_hyperslab\u001b[0m\u001b[0;34m(\u001b[0m\u001b[0mstart\u001b[0m\u001b[0;34m,\u001b[0m \u001b[0mcount\u001b[0m\u001b[0;34m,\u001b[0m \u001b[0mstep\u001b[0m\u001b[0;34m)\u001b[0m\u001b[0;34m\u001b[0m\u001b[0m\n",
      "\u001b[0;32m~/anaconda3/envs/mda/lib/python3.6/site-packages/h5py/_hl/selections.py\u001b[0m in \u001b[0;36m_handle_simple\u001b[0;34m(shape, args)\u001b[0m\n\u001b[1;32m    449\u001b[0m         \u001b[0;32melse\u001b[0m\u001b[0;34m:\u001b[0m\u001b[0;34m\u001b[0m\u001b[0m\n\u001b[1;32m    450\u001b[0m             \u001b[0;32mtry\u001b[0m\u001b[0;34m:\u001b[0m\u001b[0;34m\u001b[0m\u001b[0m\n\u001b[0;32m--> 451\u001b[0;31m                 \u001b[0mx\u001b[0m\u001b[0;34m,\u001b[0m\u001b[0my\u001b[0m\u001b[0;34m,\u001b[0m\u001b[0mz\u001b[0m \u001b[0;34m=\u001b[0m \u001b[0m_translate_int\u001b[0m\u001b[0;34m(\u001b[0m\u001b[0mint\u001b[0m\u001b[0;34m(\u001b[0m\u001b[0marg\u001b[0m\u001b[0;34m)\u001b[0m\u001b[0;34m,\u001b[0m \u001b[0mlength\u001b[0m\u001b[0;34m)\u001b[0m\u001b[0;34m\u001b[0m\u001b[0m\n\u001b[0m\u001b[1;32m    452\u001b[0m                 \u001b[0ms\u001b[0m \u001b[0;34m=\u001b[0m \u001b[0;32mTrue\u001b[0m\u001b[0;34m\u001b[0m\u001b[0m\n\u001b[1;32m    453\u001b[0m             \u001b[0;32mexcept\u001b[0m \u001b[0mTypeError\u001b[0m\u001b[0;34m:\u001b[0m\u001b[0;34m\u001b[0m\u001b[0m\n",
      "\u001b[0;32m~/anaconda3/envs/mda/lib/python3.6/site-packages/h5py/_hl/selections.py\u001b[0m in \u001b[0;36m_translate_int\u001b[0;34m(exp, length)\u001b[0m\n\u001b[1;32m    469\u001b[0m \u001b[0;34m\u001b[0m\u001b[0m\n\u001b[1;32m    470\u001b[0m     \u001b[0;32mif\u001b[0m \u001b[0;32mnot\u001b[0m \u001b[0;36m0\u001b[0m\u001b[0;34m<=\u001b[0m\u001b[0mexp\u001b[0m\u001b[0;34m<\u001b[0m\u001b[0mlength\u001b[0m\u001b[0;34m:\u001b[0m\u001b[0;34m\u001b[0m\u001b[0m\n\u001b[0;32m--> 471\u001b[0;31m         \u001b[0;32mraise\u001b[0m \u001b[0mValueError\u001b[0m\u001b[0;34m(\u001b[0m\u001b[0;34m\"Index (%s) out of range (0-%s)\"\u001b[0m \u001b[0;34m%\u001b[0m \u001b[0;34m(\u001b[0m\u001b[0mexp\u001b[0m\u001b[0;34m,\u001b[0m \u001b[0mlength\u001b[0m\u001b[0;34m-\u001b[0m\u001b[0;36m1\u001b[0m\u001b[0;34m)\u001b[0m\u001b[0;34m)\u001b[0m\u001b[0;34m\u001b[0m\u001b[0m\n\u001b[0m\u001b[1;32m    472\u001b[0m \u001b[0;34m\u001b[0m\u001b[0m\n\u001b[1;32m    473\u001b[0m     \u001b[0;32mreturn\u001b[0m \u001b[0mexp\u001b[0m\u001b[0;34m,\u001b[0m \u001b[0;36m1\u001b[0m\u001b[0;34m,\u001b[0m \u001b[0;36m1\u001b[0m\u001b[0;34m\u001b[0m\u001b[0m\n",
      "\u001b[0;31mValueError\u001b[0m: Index (1) out of range (0-0)"
     ]
    }
   ],
   "source": [
    "# Calculate the numerical gradient\n",
    "import h5py as h5\n",
    "import numpy as np\n",
    "\n",
    "#key = 'o_rad_cartesian_gradient'\n",
    "#key = 'h_radial_sym_funcs'\n",
    "key = 'cartesian_coords'\n",
    "check = False\n",
    "check = True\n",
    "f1 = 'step1_coords.h5'\n",
    "f2 = 'step2_coords.h5'\n",
    "print(args.if_paths[0])\n",
    "print(args.if_paths[1])\n",
    "k = 0\n",
    "with h5.File(f1, 'r') as ffi, h5.File(f2, 'r') as nfi:\n",
    "    if check:\n",
    "        assert(nfi[key].shape[0] == ffi[key].shape[0])\n",
    "        assert(nfi[key].shape[1] == ffi[key].shape[1])\n",
    "        print(\"Shape to check: \", nfi[key].shape)\n",
    "        for i in range(nfi[key].shape[0]):\n",
    "            for j in range(nfi[key].shape[1]):\n",
    "                for l in range(3):\n",
    "                    if not np.isclose(nfi[key][i, j, l].any(), ffi[key][i, j, l].any(), 1e-7):\n",
    "                        print(i, j, l)\n",
    "                        k += 1\n",
    "    print(nfi[key][1,:5])\n",
    "    print(ffi[key][1,:5])\n",
    "    print(list(nfi.keys()))\n",
    "    delta_symfuncs = (nfi[key][:] - ffi[key][:] ) / args.step\n",
    "print(k)"
   ]
  },
  {
   "cell_type": "code",
   "execution_count": 21,
   "metadata": {},
   "outputs": [
    {
     "ename": "OSError",
     "evalue": "Unable to open file (unable to open file: name = 'step1_coords.h5', errno = 2, error message = 'No such file or directory', flags = 0, o_flags = 0)",
     "output_type": "error",
     "traceback": [
      "\u001b[0;31m---------------------------------------------------------------------------\u001b[0m",
      "\u001b[0;31mOSError\u001b[0m                                   Traceback (most recent call last)",
      "\u001b[0;32m<ipython-input-21-8ca4439369fa>\u001b[0m in \u001b[0;36m<module>\u001b[0;34m\u001b[0m\n\u001b[1;32m      1\u001b[0m \u001b[0mkey\u001b[0m \u001b[0;34m=\u001b[0m \u001b[0;34m'cartesian_coords'\u001b[0m\u001b[0;34m\u001b[0m\u001b[0m\n\u001b[0;32m----> 2\u001b[0;31m \u001b[0;32mwith\u001b[0m \u001b[0mh5\u001b[0m\u001b[0;34m.\u001b[0m\u001b[0mFile\u001b[0m\u001b[0;34m(\u001b[0m\u001b[0;34m'step1_coords.h5'\u001b[0m\u001b[0;34m,\u001b[0m \u001b[0;34m'r'\u001b[0m\u001b[0;34m)\u001b[0m \u001b[0;32mas\u001b[0m \u001b[0mffi\u001b[0m\u001b[0;34m,\u001b[0m \u001b[0mh5\u001b[0m\u001b[0;34m.\u001b[0m\u001b[0mFile\u001b[0m\u001b[0;34m(\u001b[0m\u001b[0;34m'step2_coords.h5'\u001b[0m\u001b[0;34m,\u001b[0m \u001b[0;34m'r'\u001b[0m\u001b[0;34m)\u001b[0m \u001b[0;32mas\u001b[0m \u001b[0mnfi\u001b[0m\u001b[0;34m:\u001b[0m\u001b[0;34m\u001b[0m\u001b[0m\n\u001b[0m\u001b[1;32m      3\u001b[0m     \u001b[0mprint\u001b[0m\u001b[0;34m(\u001b[0m\u001b[0mnfi\u001b[0m\u001b[0;34m[\u001b[0m\u001b[0mkey\u001b[0m\u001b[0;34m]\u001b[0m\u001b[0;34m[\u001b[0m\u001b[0;36m0\u001b[0m\u001b[0;34m:\u001b[0m\u001b[0;36m2\u001b[0m\u001b[0;34m,\u001b[0m\u001b[0;34m:\u001b[0m\u001b[0;36m5\u001b[0m\u001b[0;34m]\u001b[0m\u001b[0;34m)\u001b[0m\u001b[0;34m\u001b[0m\u001b[0m\n\u001b[1;32m      4\u001b[0m     \u001b[0mprint\u001b[0m\u001b[0;34m(\u001b[0m\u001b[0mffi\u001b[0m\u001b[0;34m[\u001b[0m\u001b[0mkey\u001b[0m\u001b[0;34m]\u001b[0m\u001b[0;34m[\u001b[0m\u001b[0;36m0\u001b[0m\u001b[0;34m:\u001b[0m\u001b[0;36m2\u001b[0m\u001b[0;34m,\u001b[0m\u001b[0;34m:\u001b[0m\u001b[0;36m5\u001b[0m\u001b[0;34m]\u001b[0m\u001b[0;34m)\u001b[0m\u001b[0;34m\u001b[0m\u001b[0m\n",
      "\u001b[0;32m~/anaconda3/envs/mda/lib/python3.6/site-packages/h5py/_hl/files.py\u001b[0m in \u001b[0;36m__init__\u001b[0;34m(self, name, mode, driver, libver, userblock_size, swmr, **kwds)\u001b[0m\n\u001b[1;32m    310\u001b[0m             \u001b[0;32mwith\u001b[0m \u001b[0mphil\u001b[0m\u001b[0;34m:\u001b[0m\u001b[0;34m\u001b[0m\u001b[0m\n\u001b[1;32m    311\u001b[0m                 \u001b[0mfapl\u001b[0m \u001b[0;34m=\u001b[0m \u001b[0mmake_fapl\u001b[0m\u001b[0;34m(\u001b[0m\u001b[0mdriver\u001b[0m\u001b[0;34m,\u001b[0m \u001b[0mlibver\u001b[0m\u001b[0;34m,\u001b[0m \u001b[0;34m**\u001b[0m\u001b[0mkwds\u001b[0m\u001b[0;34m)\u001b[0m\u001b[0;34m\u001b[0m\u001b[0m\n\u001b[0;32m--> 312\u001b[0;31m                 \u001b[0mfid\u001b[0m \u001b[0;34m=\u001b[0m \u001b[0mmake_fid\u001b[0m\u001b[0;34m(\u001b[0m\u001b[0mname\u001b[0m\u001b[0;34m,\u001b[0m \u001b[0mmode\u001b[0m\u001b[0;34m,\u001b[0m \u001b[0muserblock_size\u001b[0m\u001b[0;34m,\u001b[0m \u001b[0mfapl\u001b[0m\u001b[0;34m,\u001b[0m \u001b[0mswmr\u001b[0m\u001b[0;34m=\u001b[0m\u001b[0mswmr\u001b[0m\u001b[0;34m)\u001b[0m\u001b[0;34m\u001b[0m\u001b[0m\n\u001b[0m\u001b[1;32m    313\u001b[0m \u001b[0;34m\u001b[0m\u001b[0m\n\u001b[1;32m    314\u001b[0m                 \u001b[0;32mif\u001b[0m \u001b[0mswmr_support\u001b[0m\u001b[0;34m:\u001b[0m\u001b[0;34m\u001b[0m\u001b[0m\n",
      "\u001b[0;32m~/anaconda3/envs/mda/lib/python3.6/site-packages/h5py/_hl/files.py\u001b[0m in \u001b[0;36mmake_fid\u001b[0;34m(name, mode, userblock_size, fapl, fcpl, swmr)\u001b[0m\n\u001b[1;32m    140\u001b[0m         \u001b[0;32mif\u001b[0m \u001b[0mswmr\u001b[0m \u001b[0;32mand\u001b[0m \u001b[0mswmr_support\u001b[0m\u001b[0;34m:\u001b[0m\u001b[0;34m\u001b[0m\u001b[0m\n\u001b[1;32m    141\u001b[0m             \u001b[0mflags\u001b[0m \u001b[0;34m|=\u001b[0m \u001b[0mh5f\u001b[0m\u001b[0;34m.\u001b[0m\u001b[0mACC_SWMR_READ\u001b[0m\u001b[0;34m\u001b[0m\u001b[0m\n\u001b[0;32m--> 142\u001b[0;31m         \u001b[0mfid\u001b[0m \u001b[0;34m=\u001b[0m \u001b[0mh5f\u001b[0m\u001b[0;34m.\u001b[0m\u001b[0mopen\u001b[0m\u001b[0;34m(\u001b[0m\u001b[0mname\u001b[0m\u001b[0;34m,\u001b[0m \u001b[0mflags\u001b[0m\u001b[0;34m,\u001b[0m \u001b[0mfapl\u001b[0m\u001b[0;34m=\u001b[0m\u001b[0mfapl\u001b[0m\u001b[0;34m)\u001b[0m\u001b[0;34m\u001b[0m\u001b[0m\n\u001b[0m\u001b[1;32m    143\u001b[0m     \u001b[0;32melif\u001b[0m \u001b[0mmode\u001b[0m \u001b[0;34m==\u001b[0m \u001b[0;34m'r+'\u001b[0m\u001b[0;34m:\u001b[0m\u001b[0;34m\u001b[0m\u001b[0m\n\u001b[1;32m    144\u001b[0m         \u001b[0mfid\u001b[0m \u001b[0;34m=\u001b[0m \u001b[0mh5f\u001b[0m\u001b[0;34m.\u001b[0m\u001b[0mopen\u001b[0m\u001b[0;34m(\u001b[0m\u001b[0mname\u001b[0m\u001b[0;34m,\u001b[0m \u001b[0mh5f\u001b[0m\u001b[0;34m.\u001b[0m\u001b[0mACC_RDWR\u001b[0m\u001b[0;34m,\u001b[0m \u001b[0mfapl\u001b[0m\u001b[0;34m=\u001b[0m\u001b[0mfapl\u001b[0m\u001b[0;34m)\u001b[0m\u001b[0;34m\u001b[0m\u001b[0m\n",
      "\u001b[0;32mh5py/_objects.pyx\u001b[0m in \u001b[0;36mh5py._objects.with_phil.wrapper\u001b[0;34m()\u001b[0m\n",
      "\u001b[0;32mh5py/_objects.pyx\u001b[0m in \u001b[0;36mh5py._objects.with_phil.wrapper\u001b[0;34m()\u001b[0m\n",
      "\u001b[0;32mh5py/h5f.pyx\u001b[0m in \u001b[0;36mh5py.h5f.open\u001b[0;34m()\u001b[0m\n",
      "\u001b[0;31mOSError\u001b[0m: Unable to open file (unable to open file: name = 'step1_coords.h5', errno = 2, error message = 'No such file or directory', flags = 0, o_flags = 0)"
     ]
    }
   ],
   "source": [
    "key = 'cartesian_coords'\n",
    "with h5.File('step1_coords.h5', 'r') as ffi, h5.File('step2_coords.h5', 'r') as nfi:\n",
    "    print(nfi[key][0:2,:5])\n",
    "    print(ffi[key][0:2,:5])"
   ]
  },
  {
   "cell_type": "code",
   "execution_count": 31,
   "metadata": {},
   "outputs": [
    {
     "data": {
      "text/plain": [
       "-1"
      ]
     },
     "execution_count": 31,
     "metadata": {},
     "output_type": "execute_result"
    }
   ],
   "source": [
    "eta =  1e-3\n",
    "zeta = 1\n",
    "lam = -1\n",
    "cos = 0\n",
    "gauss = 0.98841082358278842\n",
    "fc_prod = 0.85579455973278462\n",
    "rij = 1.0000000000000000\n",
    "rik = 1.0000000000000000\n",
    "rjk = np.sqrt(2)\n",
    "zeta*lam * (1 + lam * cos)**(zeta - 1)"
   ]
  },
  {
   "cell_type": "code",
   "execution_count": 32,
   "metadata": {},
   "outputs": [
    {
     "name": "stdout",
     "output_type": "stream",
     "text": [
      "-1.0000000000287557\n"
     ]
    }
   ],
   "source": [
    "# Check the derivative of the angle with resepct to cosine\n",
    "s = 1e-6\n",
    "a = ((1 + lam * cos) ** zeta)\n",
    "b = ((1 + lam * (cos + s)) ** zeta)\n",
    "print((b-a)/s)\n",
    "assert np.isclose((b-a)/s, -1.0000000000000000)"
   ]
  },
  {
   "cell_type": "code",
   "execution_count": 49,
   "metadata": {},
   "outputs": [
    {
     "name": "stdout",
     "output_type": "stream",
     "text": [
      "numerical dgauss/dxi [-6.74929220e-03 -6.74929220e-03  1.34985844e-06]\n",
      "numerical gradient -0.006749292236207793\n"
     ]
    }
   ],
   "source": [
    "# Check the derivative of the function with respect to the gaussian filter\n",
    "# THIS WAS FOR GEOMETRY #10\n",
    "s = 1e-6\n",
    "a = np.exp(-eta * (rij + rik + rjk)**2)\n",
    "b = np.exp(-eta * (rij + s + rik + rjk)**2)\n",
    "drijdxi = np.array([0.99999999500000003, 0.0000000000000000, -9.9999999500000007E-005])\n",
    "drikdxi = np.array([0.0000000000000000, 0.99999999500000003, -9.9999999500000007E-005])\n",
    "dgauss = np.array([0.0000000000000000, 0.99999999500000003, -9.9999999500000007E-005])\n",
    "\n",
    "num_dgauss = (b - a)/s * (drijdxi + drikdxi)\n",
    "print(\"numerical dgauss/dxi\", num_dgauss)\n",
    "print(\"numerical gradient\",(b - a)/s)"
   ]
  },
  {
   "cell_type": "code",
   "execution_count": 53,
   "metadata": {},
   "outputs": [
    {
     "name": "stdout",
     "output_type": "stream",
     "text": [
      "numerical dgauss/dxi [ 0.01152176 -0.00477247 -0.        ]\n",
      "numerical gradient -0.006749292236207793\n"
     ]
    }
   ],
   "source": [
    "# Check the derivative of the function with respect to the gaussian filter\n",
    "# THIS WAS FOR GEOMETRY #10 We are doing with respect to j here\n",
    "#\n",
    "# This is correct i think!!!\n",
    "s = 1e-6\n",
    "a = np.exp(-eta * (rij + rik + rjk)**2)\n",
    "b = np.exp(-eta * (rij + s + rik + rjk)**2)\n",
    "# drijdxi = np.array([0.99999999500000003, 0.0000000000000000, -9.9999999500000007E-005])\n",
    "# drikdxi = np.array([0.0000000000000000, 0.99999999500000003, -9.9999999500000007E-005])\n",
    "drijdxj = np.array([-1.0000000000000000,-0.0000000000000000 ,-0.0000000000000000 ])\n",
    "drjkdxj = np.array([-0.70710678118654746, 0.70710678118654746,0.00])\n",
    "dgauss = np.array([0.0000000000000000, 0.99999999500000003, -9.9999999500000007E-005])\n",
    "\n",
    "num_dgauss = (b - a)/s * (drijdxj + drjkdxj)\n",
    "print(\"numerical dgauss/dxi\", num_dgauss)\n",
    "print(\"numerical gradient\",(b - a)/s)"
   ]
  },
  {
   "cell_type": "code",
   "execution_count": null,
   "metadata": {},
   "outputs": [],
   "source": [
    "# check for the derivative of cosine\n",
    "def f(a, b):\n",
    "    return np.dot(a, b) / (np.linalg.norm(a) * np.linalg.norm(b))\n",
    "s = 1e-4\n",
    "vij = np.asarray([1.0, 0.00, 0.0])\n",
    "vik = np.asarray([0.0, 1.0, 0.0])\n",
    "vijb = np.asarray([1.0+s, 0.00, 0.0])\n",
    "a = f(vij, vik)\n",
    "b = \n"
   ]
  }
 ],
 "metadata": {
  "kernelspec": {
   "display_name": "Python [conda env:mda]",
   "language": "python",
   "name": "conda-env-mda-py"
  },
  "language_info": {
   "codemirror_mode": {
    "name": "ipython",
    "version": 3
   },
   "file_extension": ".py",
   "mimetype": "text/x-python",
   "name": "python",
   "nbconvert_exporter": "python",
   "pygments_lexer": "ipython3",
   "version": "3.6.6"
  }
 },
 "nbformat": 4,
 "nbformat_minor": 2
}
