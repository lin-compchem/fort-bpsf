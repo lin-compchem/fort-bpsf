{
 "cells": [
  {
   "cell_type": "code",
   "execution_count": 52,
   "metadata": {},
   "outputs": [],
   "source": [
    "#!/usr/bin/env python\n",
    "\"\"\" \n",
    "\"\"\"\n",
    "__author__ = 'Adam Duster'\n",
    "__copyright__ = ''\n",
    "__credits__ = ['Adam Duster']\n",
    "__license__ = 'CC-BY-SA'\n",
    "__version__ = '0.1'\n",
    "__email__ = 'adam.duster@ucdenver.edu'\n",
    "__status__ = 'Development'\n",
    "\n",
    "import argparse\n",
    "def get_args(args=None):\n",
    "    \"\"\" This is written as a default funtion to put at beginning of all Python\n",
    "    scripts which require command line arguments. This uses the argparse module\n",
    "    which must be declared in the main program to ensure that the object is able\n",
    "    to be used by the caller\n",
    "    --Adam Duster 21 June 2017\n",
    "    \"\"\"\n",
    "    parser = argparse.ArgumentParser(description='see header of python script')\n",
    "    parser.add_argument(\n",
    "        '-i',\n",
    "        '--if_paths',\n",
    "        help='The first and second files in order',\n",
    "        required=True)\n",
    "    parser.add_argument(\n",
    "        '-v',\n",
    "        '--verbose',\n",
    "        help='Controls the level of output, use multipe v for more output',\n",
    "        required=False,\n",
    "        action='count',\n",
    "        default=0)\n",
    "    parser.add_argument(\n",
    "        '-s',\n",
    "        '--step',\n",
    "        help='The change in coordinates between the two files',\n",
    "        required=False,\n",
    "        default=1e-6,\n",
    "        type=float\n",
    "    )\n",
    "    parser.add_argument(\n",
    "        '-d',\n",
    "        '--debug',\n",
    "        help='Enter debug mode',\n",
    "        required=False,\n",
    "        action='store_true',\n",
    "        default=False)\n",
    "    return parser.parse_args(args)\n",
    "\n",
    "## Vars\n",
    "arg_vals = None\n",
    "args = get_args(['-i', 'oh-bpsf.h5', '-s', '1e-6'])\n",
    "\n"
   ]
  },
  {
   "cell_type": "code",
   "execution_count": 53,
   "metadata": {},
   "outputs": [
    {
     "name": "stdout",
     "output_type": "stream",
     "text": [
      "o\n",
      "h\n",
      "o_rad_cartesian_gradient shape:  (2, 48, 151, 3)\n"
     ]
    }
   ],
   "source": [
    "# Calculate the numerical gradient\n",
    "import h5py as h5\n",
    "import numpy as np\n",
    "\n",
    "#key = 'o_rad_cartesian_gradient'\n",
    "#key = 'h_radial_sym_funcs'\n",
    "key = 'o_radial_sym_funcs'\n",
    "ckey = 'o_rad_cartesian_gradient'\n",
    "check = False\n",
    "check = True\n",
    "print(args.if_paths[0])\n",
    "print(args.if_paths[1])\n",
    "k = 0\n",
    "with h5.File(args.if_paths, 'r') as ifi:\n",
    "    delta_symfuncs = (ifi[key][1,:] - ifi[key][0,:] ) / 1e-6\n",
    "    print(ckey, 'shape: ', ifi[ckey].shape)\n",
    "    ograd = ifi[ckey][1]\n",
    "    hgrad = ifi['h_rad_cartesian_gradient'][1]\n",
    "    o_symfuncs = ifi['o_radial_sym_funcs'][1]\n",
    "    h_symfuncs = ifi['h_radial_sym_funcs'][1]\n",
    "#print(calc)"
   ]
  },
  {
   "cell_type": "code",
   "execution_count": 54,
   "metadata": {
    "scrolled": false
   },
   "outputs": [
    {
     "name": "stdout",
     "output_type": "stream",
     "text": [
      "-3.4570693969726562 [ 3.47510004 -3.47510004] [ 6.93216944 -0.01803064] [-2.00521559  0.00521559]\n",
      "1.8477439880371094 [-1.86287606  1.86287606] [-3.71062005  0.01513207] [-2.00818948  0.00818948]\n",
      "1.6391277313232422 [-1.62611103  1.62611103] [-3.26523876 -0.0130167 ] [-1.99205876 -0.00794124]\n",
      "0.6109476089477539 [-0.60673434  0.60673434] [-1.21768194 -0.00421327] [-1.99310371 -0.00689629]\n",
      "0.22351741790771484 [-0.22193363  0.22193363] [-0.44545105 -0.00158378] [-1.99291427 -0.00708573]\n",
      "0.08940696716308594 [-0.09001059  0.09001059] [-0.17941756  0.00060362] [-2.00675142  0.00675142]\n",
      "0.040978193283081055 [-0.04100074  0.04100074] [-8.19789320e-02  2.25454569e-05] [-2.00055018e+00  5.50181818e-04]\n",
      "0.020954757928848267 [-0.02073114  0.02073114] [-0.04168589 -0.00022362] [-1.98932836 -0.01067164]\n",
      "0.011408701539039612 [-0.01145233  0.01145233] [-2.28610281e-02  4.36250120e-05] [-2.00382384  0.00382384]\n",
      "0.006868503987789154 [-0.0068111  0.0068111] [-1.36796082e-02 -5.73997386e-05] [-1.99164305 -0.00835695]\n",
      "0.004249159246683121 [-0.0043074  0.0043074] [-8.55656294e-03  5.82444482e-05] [-2.01370729  0.01370729]\n",
      "0.002852175384759903 [-0.00286746  0.00286746] [-5.71963843e-03  1.52876601e-05] [-2.00536  0.00536]\n",
      "0.001979060471057892 [-0.00199303  0.00199303] [-3.97209032e-03  1.39693730e-05] [-2.00705859  0.00705859]\n",
      "0.0014260876923799515 [-0.00143679  0.00143679] [-2.86287314e-03  1.06977532e-05] [-2.00750147  0.00750147]\n",
      "0.001076841726899147 [-0.00106856  0.00106856] [-2.14540306e-03 -8.28038901e-06] [-1.99231049 -0.00768951]\n",
      "0.0008149072527885437 [-0.00081626  0.00081626] [-1.63116894e-03  1.35443406e-06] [-2.00166207e+00  1.66207143e-03]\n",
      "0.0006402842700481415 [-0.00063813  0.00063813] [-1.27841835e-03 -2.15019099e-06] [-1.99664182 -0.00335818]\n",
      "0.0005093170329928398 [-0.00050903  0.00050903] [-1.01834926e-03 -2.84810085e-07] [-1.9994408e+00 -5.5920000e-04]\n",
      "0.00040745362639427185 [-0.00041328  0.00041328] [-8.20731511e-04  5.82425855e-06] [-2.01429429  0.01429429]\n",
      "0.000341970007866621 [-0.00034079  0.00034079] [-6.82761020e-04 -1.17899617e-06] [-1.99655234 -0.00344766]\n",
      "0.0002837623469531536 [-0.00028491  0.00028491] [-5.68673335e-04  1.14864088e-06] [-2.0040479  0.0040479]\n",
      "0.00024010660126805305 [-0.00024113  0.00024113] [-4.81233641e-04  1.02043850e-06] [-2.00424994  0.00424994]\n",
      "0.00020372681319713593 [-0.00020632  0.00020632] [-4.10042936e-04  2.58930959e-06] [-2.01270971  0.01270971]\n",
      "0.00018189894035458565 [-0.00017827  0.00017827] [-3.60171209e-04 -3.62667197e-06] [-1.98006216 -0.01993784]\n"
     ]
    },
    {
     "ename": "ValueError",
     "evalue": "The truth value of an array with more than one element is ambiguous. Use a.any() or a.all()",
     "output_type": "error",
     "traceback": [
      "\u001b[0;31m---------------------------------------------------------------------------\u001b[0m",
      "\u001b[0;31mValueError\u001b[0m                                Traceback (most recent call last)",
      "\u001b[0;32m<ipython-input-54-019516d48839>\u001b[0m in \u001b[0;36m<module>\u001b[0;34m\u001b[0m\n\u001b[1;32m      1\u001b[0m \u001b[0;32mfor\u001b[0m \u001b[0mi\u001b[0m \u001b[0;32min\u001b[0m \u001b[0mrange\u001b[0m\u001b[0;34m(\u001b[0m\u001b[0mdelta_symfuncs\u001b[0m\u001b[0;34m.\u001b[0m\u001b[0msize\u001b[0m\u001b[0;34m)\u001b[0m\u001b[0;34m:\u001b[0m\u001b[0;34m\u001b[0m\u001b[0m\n\u001b[0;32m----> 2\u001b[0;31m     \u001b[0;32mif\u001b[0m \u001b[0mdelta_symfuncs\u001b[0m\u001b[0;34m[\u001b[0m\u001b[0mi\u001b[0m\u001b[0;34m]\u001b[0m \u001b[0;34m==\u001b[0m \u001b[0;36m0\u001b[0m \u001b[0;32mand\u001b[0m \u001b[0mcalc\u001b[0m\u001b[0;34m[\u001b[0m\u001b[0mi\u001b[0m\u001b[0;34m]\u001b[0m \u001b[0;34m==\u001b[0m \u001b[0;36m0\u001b[0m\u001b[0;34m:\u001b[0m\u001b[0;34m\u001b[0m\u001b[0m\n\u001b[0m\u001b[1;32m      3\u001b[0m         \u001b[0;32mcontinue\u001b[0m\u001b[0;34m\u001b[0m\u001b[0m\n\u001b[1;32m      4\u001b[0m     \u001b[0mprint\u001b[0m\u001b[0;34m(\u001b[0m\u001b[0mdelta_symfuncs\u001b[0m\u001b[0;34m[\u001b[0m\u001b[0mi\u001b[0m\u001b[0;34m]\u001b[0m\u001b[0;34m,\u001b[0m \u001b[0mcalc\u001b[0m\u001b[0;34m[\u001b[0m\u001b[0mi\u001b[0m\u001b[0;34m]\u001b[0m\u001b[0;34m,\u001b[0m \u001b[0mcalc\u001b[0m\u001b[0;34m[\u001b[0m\u001b[0mi\u001b[0m\u001b[0;34m]\u001b[0m\u001b[0;34m-\u001b[0m\u001b[0mdelta_symfuncs\u001b[0m\u001b[0;34m[\u001b[0m\u001b[0mi\u001b[0m\u001b[0;34m]\u001b[0m\u001b[0;34m,\u001b[0m \u001b[0;34m(\u001b[0m\u001b[0mcalc\u001b[0m\u001b[0;34m[\u001b[0m\u001b[0mi\u001b[0m\u001b[0;34m]\u001b[0m\u001b[0;34m-\u001b[0m\u001b[0mdelta_symfuncs\u001b[0m\u001b[0;34m[\u001b[0m\u001b[0mi\u001b[0m\u001b[0;34m]\u001b[0m\u001b[0;34m)\u001b[0m\u001b[0;34m/\u001b[0m\u001b[0mdelta_symfuncs\u001b[0m\u001b[0;34m[\u001b[0m\u001b[0mi\u001b[0m\u001b[0;34m]\u001b[0m\u001b[0;34m)\u001b[0m\u001b[0;34m\u001b[0m\u001b[0m\n",
      "\u001b[0;31mValueError\u001b[0m: The truth value of an array with more than one element is ambiguous. Use a.any() or a.all()"
     ]
    }
   ],
   "source": [
    "for i in range(delta_symfuncs.size):\n",
    "    if delta_symfuncs[i] == 0 and calc[i] == 0:\n",
    "        continue\n",
    "    print(delta_symfuncs[i], calc[i], calc[i]-delta_symfuncs[i], (calc[i]-delta_symfuncs[i])/delta_symfuncs[i])"
   ]
  },
  {
   "cell_type": "code",
   "execution_count": 86,
   "metadata": {
    "scrolled": true
   },
   "outputs": [
    {
     "name": "stdout",
     "output_type": "stream",
     "text": [
      "calc gi 0.44041252110981277\n",
      "reference_gi 0.4404081106185913\n"
     ]
    }
   ],
   "source": [
    "npa = np.asarray\n",
    "\n",
    "\n",
    "xi = npa([0.,0.,0.])\n",
    "xj = npa([1.,0.,0.])\n",
    "def calc_gi(xi, xj, rs=0.800, eta=19.531, rc=8.0, verbose=False):\n",
    "    vij = xj - xi\n",
    "    rij = np.linalg.norm(vij)\n",
    "    drijdi = -vij/rij\n",
    "    drijdj = drijdi\n",
    "    fc = 0.5 * (np.cos(np.pi*rij/rc) + 1)\n",
    "    gauss = np.exp(-eta*(rij - rs)**2)\n",
    "    gi = gauss*fc\n",
    "    if verbose:\n",
    "        print(\"rij, then rs\", rij, rs)\n",
    "        print(\"(rij-rs)**2\",(rij-rs)**2)\n",
    "        print(\"myexp\", gauss)\n",
    "        print(\"myfc\", fc)\n",
    "    \n",
    "    return gi\n",
    "\n",
    "cgi = calc_gi(xi, xj)\n",
    "print(\"calc gi\", cgi)\n",
    "print(\"reference_gi\", o_symfuncs[0])\n"
   ]
  },
  {
   "cell_type": "code",
   "execution_count": 80,
   "metadata": {},
   "outputs": [
    {
     "name": "stdout",
     "output_type": "stream",
     "text": [
      "rij, then rs 1.0 0.8\n",
      "(rij-rs)**2 0.03999999999999998\n",
      "myexp 0.4578379401281239\n",
      "myfc 0.9619397662556434\n",
      "rij, then rs 0.999999000001 0.8\n",
      "(rij-rs)**2 0.03999960000139996\n",
      "myexp 0.45784151694270037\n",
      "myfc 0.9619398413952489\n",
      "numerical gradient:  3.475082208603819\n",
      "[3.47508979 0.         0.        ]\n"
     ]
    }
   ],
   "source": [
    "# Lets calculate the O symfunc numerical gradient\n",
    "s = 1e-6\n",
    "xi = npa([0.,0.,0.])\n",
    "xj = npa([1.,0.,0.])\n",
    "xib = np.copy(xi)\n",
    "xib = xib[0] + s\n",
    "\n",
    "agi = calc_gi(xi, xj)\n",
    "bgi = calc_gi(xib, xj)\n",
    "print(\"numerical gradient: \", (bgi - agi)/s)\n",
    "print(ograd[0,0])\n"
   ]
  },
  {
   "cell_type": "code",
   "execution_count": 89,
   "metadata": {},
   "outputs": [
    {
     "name": "stdout",
     "output_type": "stream",
     "text": [
      "1.000001\n",
      "calculated symfunc: 0.44041252110981277\n",
      "reference symfunc: 0.4404081106185913\n",
      "numerical gradient:  -3.4750755017465274\n",
      "[-3.47508979  0.          0.        ]\n"
     ]
    }
   ],
   "source": [
    "# Lets calculate the H symfunc numerical gradient\n",
    "s = 1e-6\n",
    "xi = npa([1.,0.,0.])\n",
    "xj = npa([0.,0.,0.])\n",
    "xib = np.copy(xi)\n",
    "xib[0] = xib[0] + s\n",
    "\n",
    "agi = calc_gi(xi, xj)\n",
    "bgi = calc_gi(xib, xj)\n",
    "print(np.linalg.norm(xib-xj))\n",
    "print(\"calculated symfunc:\", agi)\n",
    "print(\"reference symfunc:\", h_symfuncs[24])\n",
    "print(\"numerical gradient: \", (bgi - agi)/s)\n",
    "print(hgrad[24,0])\n"
   ]
  }
 ],
 "metadata": {
  "kernelspec": {
   "display_name": "Python [conda env:mda]",
   "language": "python",
   "name": "conda-env-mda-py"
  },
  "language_info": {
   "codemirror_mode": {
    "name": "ipython",
    "version": 3
   },
   "file_extension": ".py",
   "mimetype": "text/x-python",
   "name": "python",
   "nbconvert_exporter": "python",
   "pygments_lexer": "ipython3",
   "version": "3.6.6"
  }
 },
 "nbformat": 4,
 "nbformat_minor": 2
}
