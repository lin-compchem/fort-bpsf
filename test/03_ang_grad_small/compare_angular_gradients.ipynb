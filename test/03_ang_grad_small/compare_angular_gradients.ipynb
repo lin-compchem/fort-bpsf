{
 "cells": [
  {
   "cell_type": "code",
   "execution_count": 6,
   "metadata": {},
   "outputs": [
    {
     "name": "stdout",
     "output_type": "stream",
     "text": [
      "Test by changing y of H1 (2nd atom) by 0.000100\n",
      "h2o-bpsf.h5\n",
      "KEYS IN H5 file:  ['h_ang_cartesian_gradient', 'h_angular_sym_funcs', 'h_basis_to_molecule', 'h_rad_cartesian_gradient', 'h_radial_sym_funcs', 'molecule_to_basis_inds', 'o_ang_cartesian_gradient', 'o_angular_sym_funcs', 'o_basis_to_molecule', 'o_rad_cartesian_gradient', 'o_radial_sym_funcs']\n",
      "ang basis array dimensions:  (14, 54)\n",
      "ang grad array dimensions:  (14, 54, 3, 3)\n",
      "reference angular bpsf:  [0.00000000e+00 0.00000000e+00 0.00000000e+00 0.00000000e+00\n",
      " 0.00000000e+00 0.00000000e+00 0.00000000e+00 0.00000000e+00\n",
      " 0.00000000e+00 0.00000000e+00 0.00000000e+00 0.00000000e+00\n",
      " 0.00000000e+00 0.00000000e+00 0.00000000e+00 0.00000000e+00\n",
      " 0.00000000e+00 0.00000000e+00 0.00000000e+00 0.00000000e+00\n",
      " 0.00000000e+00 0.00000000e+00 0.00000000e+00 0.00000000e+00\n",
      " 0.00000000e+00 0.00000000e+00 0.00000000e+00 0.00000000e+00\n",
      " 0.00000000e+00 0.00000000e+00 0.00000000e+00 0.00000000e+00\n",
      " 0.00000000e+00 0.00000000e+00 0.00000000e+00 0.00000000e+00\n",
      " 8.45876606e-01 8.45876606e-01 1.05734576e-01 1.05734576e-01\n",
      " 2.58141054e-05 2.58141054e-05 7.61630710e-01 7.61630710e-01\n",
      " 9.52038387e-02 9.52038387e-02 2.32431247e-05 2.32431247e-05\n",
      " 4.77797802e-01 4.77797802e-01 5.97247253e-02 5.97247253e-02\n",
      " 1.45812318e-05 1.45812318e-05]\n",
      "0.8458766063216487\n"
     ]
    }
   ],
   "source": [
    "#!/usr/bin/env python\n",
    "\"\"\" \n",
    "\"\"\"\n",
    "__author__ = 'Adam Duster'\n",
    "__copyright__ = ''\n",
    "__credits__ = ['Adam Duster']\n",
    "__license__ = 'CC-BY-SA'\n",
    "__version__ = '0.1'\n",
    "__email__ = 'adam.duster@ucdenver.edu'\n",
    "__status__ = 'Development'\n",
    "\n",
    "import argparse\n",
    "import h5py as h5\n",
    "import numpy as np\n",
    "\n",
    "def get_args(args=None):\n",
    "    \"\"\" This is written as a default funtion to put at beginning of all Python\n",
    "    scripts which require command line arguments. This uses the argparse module\n",
    "    which must be declared in the main program to ensure that the object is able\n",
    "    to be used by the caller\n",
    "    --Adam Duster 21 June 2017\n",
    "    \"\"\"\n",
    "    parser = argparse.ArgumentParser(description='see header of python script')\n",
    "    parser.add_argument(\n",
    "        '-i',\n",
    "        '--if_paths',\n",
    "        help='The first and second files in order',\n",
    "        required=True)\n",
    "    parser.add_argument(\n",
    "        '-v',\n",
    "        '--verbose',\n",
    "        help='Controls the level of output, use multipe v for more output',\n",
    "        required=False,\n",
    "        action='count',\n",
    "        default=0)\n",
    "    parser.add_argument(\n",
    "        '-s',\n",
    "        '--step',\n",
    "        help='The change in coordinates between the two files',\n",
    "        required=False,\n",
    "        default=1e-6,\n",
    "        type=float\n",
    "    )\n",
    "    parser.add_argument(\n",
    "        '-d',\n",
    "        '--debug',\n",
    "        help='Enter debug mode',\n",
    "        required=False,\n",
    "        action='store_true',\n",
    "        default=False)\n",
    "    return parser.parse_args(args)\n",
    "\n",
    "## Vars\n",
    "arg_vals = None\n",
    "args = get_args(['-i', 'h2o-bpsf.h5','-s', '1e-4', '-d'])\n",
    "\n",
    "test = 2\n",
    "\n",
    "# different tests to examine. ind refers to structure\n",
    "# f is first, n is next  \n",
    "f = 0\n",
    "if test == 0:\n",
    "    print(\"Test by changing theta by %f\" % args.step)\n",
    "    n = 1\n",
    "if test == 1:\n",
    "    print(\"Test by changing x of H1 (2nd atom) by %f\" % args.step)\n",
    "    n = 2\n",
    "if test == 2:\n",
    "    print(\"Test by changing y of H1 (2nd atom) by %f\" % args.step)\n",
    "    n = 3\n",
    "if test == 1:\n",
    "    print(\"Test by changing z of H1 (2nd atom) by %f\" % args.step)\n",
    "    n = 4\n",
    "if test == 1:\n",
    "    print(\"Test by changing x of H2 (3rd atom) by %f\" % args.step)\n",
    "    n = 5\n",
    "if test == 1:\n",
    "    print(\"Test by changing y of H2 (3rd atom) by %f\" % args.step)\n",
    "    n = 6\n",
    "if test == 1:\n",
    "    print(\"Test by changing z of H2 (3rd atom) by %f\" % args.step)\n",
    "    n = 7\n",
    "if test == 1:\n",
    "    print(\"Test by changing x of O (1st atom) by %f\" % args.step)\n",
    "    n = 8\n",
    "if test == 1:\n",
    "    print(\"Test by changing y of O (1st atom) by %f\" % args.step)\n",
    "    n = 9\n",
    "if test == 1:\n",
    "    print(\"Test by changing z of O (1st atom) by %f\" % args.step)\n",
    "    n = 10\n",
    "# There should only be 1 set of angular symmetry funcitons\n",
    "# Lets verify this and then select them.\n",
    "key = 'o_angular_sym_funcs'\n",
    "ckey = 'o_ang_cartesian_gradient'\n",
    "check = False\n",
    "check = True\n",
    "print(args.if_paths)\n",
    "k = 0\n",
    "#bf_slice = np.arange(-18, 0, 1)\n",
    "bf_slice = np.asarray(-18)\n",
    "nsf = bf_slice.size\n",
    "debug = True\n",
    "with h5.File(args.if_paths, 'r') as nfi:\n",
    "    if args.debug:\n",
    "        print('KEYS IN H5 file: ', list(nfi.keys()))\n",
    "        dims = nfi[key].shape\n",
    "        cdims = nfi[ckey].shape\n",
    "        print(\"ang basis array dimensions: \", dims)\n",
    "        print(\"ang grad array dimensions: \", cdims)\n",
    "        print(\"reference angular bpsf: \", nfi[key][0,:])\n",
    "    if check:\n",
    "        for i in range(dims[1]):\n",
    "            if not np.isclose(nfi[key][f,i].any(), nfi[key][n, i].any(), 1e-5):\n",
    "                print(i, j)\n",
    "                k += 1\n",
    "    print(nfi[key][f,bf_slice])\n",
    "    delta_symfuncs = np.reshape((nfi[key][n,bf_slice] - nfi[key][f,bf_slice] ) / args.step, [1])\n",
    "    calc = nfi[ckey][f,bf_slice,:3,:]"
   ]
  },
  {
   "cell_type": "code",
   "execution_count": 8,
   "metadata": {
    "scrolled": false
   },
   "outputs": [
    {
     "name": "stdout",
     "output_type": "stream",
     "text": [
      "-0.7748542038710227\n",
      "4.440892098500626e-16\n"
     ]
    }
   ],
   "source": [
    "for i in range(nsf):\n",
    "    print(delta_symfuncs[i])\n",
    "    print(calc[:].sum())\n",
    "    #print(delta_symfuncs[i], calc[i], calc[i]-delta_symfuncs[i], (calc[i]-delta_symfuncs[i])/delta_symfuncs[i])"
   ]
  },
  {
   "cell_type": "code",
   "execution_count": 9,
   "metadata": {},
   "outputs": [
    {
     "name": "stdout",
     "output_type": "stream",
     "text": [
      "[[ 1.072823    1.072823    0.        ]\n",
      " [-0.14454759 -0.92827541  0.        ]\n",
      " [-0.92827541 -0.14454759  0.        ]]\n"
     ]
    }
   ],
   "source": [
    "print(calc[:])"
   ]
  },
  {
   "cell_type": "code",
   "execution_count": 12,
   "metadata": {},
   "outputs": [
    {
     "name": "stdout",
     "output_type": "stream",
     "text": [
      "bf 0.84587661 changed to 0.84579912\n",
      "delta: -0.00007749\n"
     ]
    }
   ],
   "source": [
    "with h5.File(args.if_paths, 'r') as nfi:\n",
    "    f = nfi[key][f,bf_slice]\n",
    "    n = nfi[key][n,bf_slice]\n",
    "    print(\"bf {0:10.8f} changed to {1:10.8f}\".format(f, n))\n",
    "    print(\"delta: {0:10.8f}\".format(n-f))"
   ]
  },
  {
   "cell_type": "code",
   "execution_count": 14,
   "metadata": {
    "scrolled": true
   },
   "outputs": [
    {
     "name": "stdout",
     "output_type": "stream",
     "text": [
      "Numerical calculation:   -0.7748542038710227\n",
      "Analytical calculation:  [1.072823 1.072823 0.      ]\n",
      "Difference (A-N):   [1.8476772 1.8476772 0.7748542]\n"
     ]
    },
    {
     "ename": "IndexError",
     "evalue": "invalid index to scalar variable.",
     "output_type": "error",
     "traceback": [
      "\u001b[0;31m---------------------------------------------------------------------------\u001b[0m",
      "\u001b[0;31mIndexError\u001b[0m                                Traceback (most recent call last)",
      "\u001b[0;32m<ipython-input-14-d02b918d7b14>\u001b[0m in \u001b[0;36m<module>\u001b[0;34m\u001b[0m\n\u001b[1;32m      7\u001b[0m     \u001b[0mprint\u001b[0m\u001b[0;34m(\u001b[0m\u001b[0;34m\"Analytical calculation: \"\u001b[0m\u001b[0;34m,\u001b[0m \u001b[0mcalc\u001b[0m\u001b[0;34m[\u001b[0m\u001b[0mi\u001b[0m\u001b[0;34m]\u001b[0m\u001b[0;34m)\u001b[0m\u001b[0;34m\u001b[0m\u001b[0;34m\u001b[0m\u001b[0m\n\u001b[1;32m      8\u001b[0m     \u001b[0mprint\u001b[0m\u001b[0;34m(\u001b[0m\u001b[0;34m\"Difference (A-N):  \"\u001b[0m\u001b[0;34m,\u001b[0m \u001b[0mcalc\u001b[0m\u001b[0;34m[\u001b[0m\u001b[0mi\u001b[0m\u001b[0;34m]\u001b[0m\u001b[0;34m-\u001b[0m\u001b[0mdelta_symfuncs\u001b[0m\u001b[0;34m[\u001b[0m\u001b[0mi\u001b[0m\u001b[0;34m]\u001b[0m\u001b[0;34m)\u001b[0m\u001b[0;34m\u001b[0m\u001b[0;34m\u001b[0m\u001b[0m\n\u001b[0;32m----> 9\u001b[0;31m     \u001b[0mprint\u001b[0m\u001b[0;34m(\u001b[0m\u001b[0;34m\"% Difference: {0:.0%}\"\u001b[0m\u001b[0;34m.\u001b[0m\u001b[0mformat\u001b[0m\u001b[0;34m(\u001b[0m\u001b[0mdiff\u001b[0m\u001b[0;34m[\u001b[0m\u001b[0mi\u001b[0m\u001b[0;34m]\u001b[0m\u001b[0;34m/\u001b[0m\u001b[0mref\u001b[0m\u001b[0;34m[\u001b[0m\u001b[0mi\u001b[0m\u001b[0;34m]\u001b[0m\u001b[0;34m)\u001b[0m \u001b[0;34m)\u001b[0m\u001b[0;34m\u001b[0m\u001b[0;34m\u001b[0m\u001b[0m\n\u001b[0m\u001b[1;32m     10\u001b[0m     \u001b[0mprint\u001b[0m\u001b[0;34m(\u001b[0m\u001b[0mdelta_symfuncs\u001b[0m\u001b[0;34m[\u001b[0m\u001b[0mi\u001b[0m\u001b[0;34m]\u001b[0m\u001b[0;34m,\u001b[0m \u001b[0mcalc\u001b[0m\u001b[0;34m[\u001b[0m\u001b[0mi\u001b[0m\u001b[0;34m]\u001b[0m\u001b[0;34m,\u001b[0m \u001b[0;34m(\u001b[0m\u001b[0mcalc\u001b[0m\u001b[0;34m[\u001b[0m\u001b[0mi\u001b[0m\u001b[0;34m]\u001b[0m\u001b[0;34m-\u001b[0m\u001b[0mdelta_symfuncs\u001b[0m\u001b[0;34m[\u001b[0m\u001b[0mi\u001b[0m\u001b[0;34m]\u001b[0m\u001b[0;34m)\u001b[0m\u001b[0;34m/\u001b[0m\u001b[0mdelta_symfuncs\u001b[0m\u001b[0;34m[\u001b[0m\u001b[0mi\u001b[0m\u001b[0;34m]\u001b[0m\u001b[0;34m)\u001b[0m\u001b[0;34m\u001b[0m\u001b[0;34m\u001b[0m\u001b[0m\n",
      "\u001b[0;31mIndexError\u001b[0m: invalid index to scalar variable."
     ]
    }
   ],
   "source": [
    "for i in range(delta_symfuncs.size):\n",
    "    if delta_symfuncs[i] == 0 and calc[i] == 0:\n",
    "        continue\n",
    "    diff = calc[i]-delta_symfuncs[i]\n",
    "    ref = delta_symfuncs[i]\n",
    "    print(\"Numerical calculation:  \", delta_symfuncs[i])\n",
    "    print(\"Analytical calculation: \", calc[i])\n",
    "    print(\"Difference (A-N):  \", calc[i]-delta_symfuncs[i])\n",
    "    print(\"% Difference: {0:.0%}\".format(diff[i]/ref[i]) )\n",
    "    print(delta_symfuncs[i], calc[i], (calc[i]-delta_symfuncs[i])/delta_symfuncs[i])"
   ]
  },
  {
   "cell_type": "code",
   "execution_count": 15,
   "metadata": {},
   "outputs": [
    {
     "data": {
      "text/plain": [
       "()"
      ]
     },
     "execution_count": 15,
     "metadata": {},
     "output_type": "execute_result"
    }
   ],
   "source": [
    "delta_symfuncs[i].shape"
   ]
  },
  {
   "cell_type": "code",
   "execution_count": 16,
   "metadata": {
    "scrolled": true
   },
   "outputs": [
    {
     "name": "stdout",
     "output_type": "stream",
     "text": [
      "-0.7748542038710227 [1.072823 1.072823 0.      ] [-2.38454821 -2.38454821 -1.        ]\n"
     ]
    }
   ],
   "source": [
    "for i in range(delta_symfuncs.size):\n",
    "    if delta_symfuncs[i] == 0 and calc[i] == 0:\n",
    "        continue\n",
    "    print(delta_symfuncs[i], calc[i], (calc[i]-delta_symfuncs[i])/delta_symfuncs[i])"
   ]
  },
  {
   "cell_type": "code",
   "execution_count": 17,
   "metadata": {},
   "outputs": [
    {
     "name": "stdout",
     "output_type": "stream",
     "text": [
      "h\n",
      "2\n"
     ]
    },
    {
     "ename": "OSError",
     "evalue": "Unable to open file (unable to open file: name = 'step1_coords.h5', errno = 2, error message = 'No such file or directory', flags = 0, o_flags = 0)",
     "output_type": "error",
     "traceback": [
      "\u001b[0;31m---------------------------------------------------------------------------\u001b[0m",
      "\u001b[0;31mOSError\u001b[0m                                   Traceback (most recent call last)",
      "\u001b[0;32m<ipython-input-17-45e7e77ad307>\u001b[0m in \u001b[0;36m<module>\u001b[0;34m\u001b[0m\n\u001b[1;32m     13\u001b[0m \u001b[0mprint\u001b[0m\u001b[0;34m(\u001b[0m\u001b[0margs\u001b[0m\u001b[0;34m.\u001b[0m\u001b[0mif_paths\u001b[0m\u001b[0;34m[\u001b[0m\u001b[0;36m1\u001b[0m\u001b[0;34m]\u001b[0m\u001b[0;34m)\u001b[0m\u001b[0;34m\u001b[0m\u001b[0;34m\u001b[0m\u001b[0m\n\u001b[1;32m     14\u001b[0m \u001b[0mk\u001b[0m \u001b[0;34m=\u001b[0m \u001b[0;36m0\u001b[0m\u001b[0;34m\u001b[0m\u001b[0;34m\u001b[0m\u001b[0m\n\u001b[0;32m---> 15\u001b[0;31m \u001b[0;32mwith\u001b[0m \u001b[0mh5\u001b[0m\u001b[0;34m.\u001b[0m\u001b[0mFile\u001b[0m\u001b[0;34m(\u001b[0m\u001b[0mf1\u001b[0m\u001b[0;34m,\u001b[0m \u001b[0;34m'r'\u001b[0m\u001b[0;34m)\u001b[0m \u001b[0;32mas\u001b[0m \u001b[0mffi\u001b[0m\u001b[0;34m,\u001b[0m \u001b[0mh5\u001b[0m\u001b[0;34m.\u001b[0m\u001b[0mFile\u001b[0m\u001b[0;34m(\u001b[0m\u001b[0mf2\u001b[0m\u001b[0;34m,\u001b[0m \u001b[0;34m'r'\u001b[0m\u001b[0;34m)\u001b[0m \u001b[0;32mas\u001b[0m \u001b[0mnfi\u001b[0m\u001b[0;34m:\u001b[0m\u001b[0;34m\u001b[0m\u001b[0;34m\u001b[0m\u001b[0m\n\u001b[0m\u001b[1;32m     16\u001b[0m     \u001b[0;32mif\u001b[0m \u001b[0mcheck\u001b[0m\u001b[0;34m:\u001b[0m\u001b[0;34m\u001b[0m\u001b[0;34m\u001b[0m\u001b[0m\n\u001b[1;32m     17\u001b[0m         \u001b[0;32massert\u001b[0m\u001b[0;34m(\u001b[0m\u001b[0mnfi\u001b[0m\u001b[0;34m[\u001b[0m\u001b[0mkey\u001b[0m\u001b[0;34m]\u001b[0m\u001b[0;34m.\u001b[0m\u001b[0mshape\u001b[0m\u001b[0;34m[\u001b[0m\u001b[0;36m0\u001b[0m\u001b[0;34m]\u001b[0m \u001b[0;34m==\u001b[0m \u001b[0mffi\u001b[0m\u001b[0;34m[\u001b[0m\u001b[0mkey\u001b[0m\u001b[0;34m]\u001b[0m\u001b[0;34m.\u001b[0m\u001b[0mshape\u001b[0m\u001b[0;34m[\u001b[0m\u001b[0;36m0\u001b[0m\u001b[0;34m]\u001b[0m\u001b[0;34m)\u001b[0m\u001b[0;34m\u001b[0m\u001b[0;34m\u001b[0m\u001b[0m\n",
      "\u001b[0;32m~/anaconda3/envs/mda/lib/python3.6/site-packages/h5py/_hl/files.py\u001b[0m in \u001b[0;36m__init__\u001b[0;34m(self, name, mode, driver, libver, userblock_size, swmr, **kwds)\u001b[0m\n\u001b[1;32m    310\u001b[0m             \u001b[0;32mwith\u001b[0m \u001b[0mphil\u001b[0m\u001b[0;34m:\u001b[0m\u001b[0;34m\u001b[0m\u001b[0;34m\u001b[0m\u001b[0m\n\u001b[1;32m    311\u001b[0m                 \u001b[0mfapl\u001b[0m \u001b[0;34m=\u001b[0m \u001b[0mmake_fapl\u001b[0m\u001b[0;34m(\u001b[0m\u001b[0mdriver\u001b[0m\u001b[0;34m,\u001b[0m \u001b[0mlibver\u001b[0m\u001b[0;34m,\u001b[0m \u001b[0;34m**\u001b[0m\u001b[0mkwds\u001b[0m\u001b[0;34m)\u001b[0m\u001b[0;34m\u001b[0m\u001b[0;34m\u001b[0m\u001b[0m\n\u001b[0;32m--> 312\u001b[0;31m                 \u001b[0mfid\u001b[0m \u001b[0;34m=\u001b[0m \u001b[0mmake_fid\u001b[0m\u001b[0;34m(\u001b[0m\u001b[0mname\u001b[0m\u001b[0;34m,\u001b[0m \u001b[0mmode\u001b[0m\u001b[0;34m,\u001b[0m \u001b[0muserblock_size\u001b[0m\u001b[0;34m,\u001b[0m \u001b[0mfapl\u001b[0m\u001b[0;34m,\u001b[0m \u001b[0mswmr\u001b[0m\u001b[0;34m=\u001b[0m\u001b[0mswmr\u001b[0m\u001b[0;34m)\u001b[0m\u001b[0;34m\u001b[0m\u001b[0;34m\u001b[0m\u001b[0m\n\u001b[0m\u001b[1;32m    313\u001b[0m \u001b[0;34m\u001b[0m\u001b[0m\n\u001b[1;32m    314\u001b[0m                 \u001b[0;32mif\u001b[0m \u001b[0mswmr_support\u001b[0m\u001b[0;34m:\u001b[0m\u001b[0;34m\u001b[0m\u001b[0;34m\u001b[0m\u001b[0m\n",
      "\u001b[0;32m~/anaconda3/envs/mda/lib/python3.6/site-packages/h5py/_hl/files.py\u001b[0m in \u001b[0;36mmake_fid\u001b[0;34m(name, mode, userblock_size, fapl, fcpl, swmr)\u001b[0m\n\u001b[1;32m    140\u001b[0m         \u001b[0;32mif\u001b[0m \u001b[0mswmr\u001b[0m \u001b[0;32mand\u001b[0m \u001b[0mswmr_support\u001b[0m\u001b[0;34m:\u001b[0m\u001b[0;34m\u001b[0m\u001b[0;34m\u001b[0m\u001b[0m\n\u001b[1;32m    141\u001b[0m             \u001b[0mflags\u001b[0m \u001b[0;34m|=\u001b[0m \u001b[0mh5f\u001b[0m\u001b[0;34m.\u001b[0m\u001b[0mACC_SWMR_READ\u001b[0m\u001b[0;34m\u001b[0m\u001b[0;34m\u001b[0m\u001b[0m\n\u001b[0;32m--> 142\u001b[0;31m         \u001b[0mfid\u001b[0m \u001b[0;34m=\u001b[0m \u001b[0mh5f\u001b[0m\u001b[0;34m.\u001b[0m\u001b[0mopen\u001b[0m\u001b[0;34m(\u001b[0m\u001b[0mname\u001b[0m\u001b[0;34m,\u001b[0m \u001b[0mflags\u001b[0m\u001b[0;34m,\u001b[0m \u001b[0mfapl\u001b[0m\u001b[0;34m=\u001b[0m\u001b[0mfapl\u001b[0m\u001b[0;34m)\u001b[0m\u001b[0;34m\u001b[0m\u001b[0;34m\u001b[0m\u001b[0m\n\u001b[0m\u001b[1;32m    143\u001b[0m     \u001b[0;32melif\u001b[0m \u001b[0mmode\u001b[0m \u001b[0;34m==\u001b[0m \u001b[0;34m'r+'\u001b[0m\u001b[0;34m:\u001b[0m\u001b[0;34m\u001b[0m\u001b[0;34m\u001b[0m\u001b[0m\n\u001b[1;32m    144\u001b[0m         \u001b[0mfid\u001b[0m \u001b[0;34m=\u001b[0m \u001b[0mh5f\u001b[0m\u001b[0;34m.\u001b[0m\u001b[0mopen\u001b[0m\u001b[0;34m(\u001b[0m\u001b[0mname\u001b[0m\u001b[0;34m,\u001b[0m \u001b[0mh5f\u001b[0m\u001b[0;34m.\u001b[0m\u001b[0mACC_RDWR\u001b[0m\u001b[0;34m,\u001b[0m \u001b[0mfapl\u001b[0m\u001b[0;34m=\u001b[0m\u001b[0mfapl\u001b[0m\u001b[0;34m)\u001b[0m\u001b[0;34m\u001b[0m\u001b[0;34m\u001b[0m\u001b[0m\n",
      "\u001b[0;32mh5py/_objects.pyx\u001b[0m in \u001b[0;36mh5py._objects.with_phil.wrapper\u001b[0;34m()\u001b[0m\n",
      "\u001b[0;32mh5py/_objects.pyx\u001b[0m in \u001b[0;36mh5py._objects.with_phil.wrapper\u001b[0;34m()\u001b[0m\n",
      "\u001b[0;32mh5py/h5f.pyx\u001b[0m in \u001b[0;36mh5py.h5f.open\u001b[0;34m()\u001b[0m\n",
      "\u001b[0;31mOSError\u001b[0m: Unable to open file (unable to open file: name = 'step1_coords.h5', errno = 2, error message = 'No such file or directory', flags = 0, o_flags = 0)"
     ]
    }
   ],
   "source": [
    "# Calculate the numerical gradient\n",
    "import h5py as h5\n",
    "import numpy as np\n",
    "\n",
    "#key = 'o_rad_cartesian_gradient'\n",
    "#key = 'h_radial_sym_funcs'\n",
    "key = 'cartesian_coords'\n",
    "check = False\n",
    "check = True\n",
    "f1 = 'step1_coords.h5'\n",
    "f2 = 'step2_coords.h5'\n",
    "print(args.if_paths[0])\n",
    "print(args.if_paths[1])\n",
    "k = 0\n",
    "with h5.File(f1, 'r') as ffi, h5.File(f2, 'r') as nfi:\n",
    "    if check:\n",
    "        assert(nfi[key].shape[0] == ffi[key].shape[0])\n",
    "        assert(nfi[key].shape[1] == ffi[key].shape[1])\n",
    "        print(\"Shape to check: \", nfi[key].shape)\n",
    "        for i in range(nfi[key].shape[0]):\n",
    "            for j in range(nfi[key].shape[1]):\n",
    "                for l in range(3):\n",
    "                    if not np.isclose(nfi[key][i, j, l].any(), ffi[key][i, j, l].any(), 1e-7):\n",
    "                        print(i, j, l)\n",
    "                        k += 1\n",
    "    print(nfi[key][1,:5])\n",
    "    print(ffi[key][1,:5])\n",
    "    print(list(nfi.keys()))\n",
    "    delta_symfuncs = (nfi[key][:] - ffi[key][:] ) / args.step\n",
    "print(k)"
   ]
  },
  {
   "cell_type": "code",
   "execution_count": 18,
   "metadata": {},
   "outputs": [
    {
     "ename": "OSError",
     "evalue": "Unable to open file (unable to open file: name = 'step1_coords.h5', errno = 2, error message = 'No such file or directory', flags = 0, o_flags = 0)",
     "output_type": "error",
     "traceback": [
      "\u001b[0;31m---------------------------------------------------------------------------\u001b[0m",
      "\u001b[0;31mOSError\u001b[0m                                   Traceback (most recent call last)",
      "\u001b[0;32m<ipython-input-18-8ca4439369fa>\u001b[0m in \u001b[0;36m<module>\u001b[0;34m\u001b[0m\n\u001b[1;32m      1\u001b[0m \u001b[0mkey\u001b[0m \u001b[0;34m=\u001b[0m \u001b[0;34m'cartesian_coords'\u001b[0m\u001b[0;34m\u001b[0m\u001b[0;34m\u001b[0m\u001b[0m\n\u001b[0;32m----> 2\u001b[0;31m \u001b[0;32mwith\u001b[0m \u001b[0mh5\u001b[0m\u001b[0;34m.\u001b[0m\u001b[0mFile\u001b[0m\u001b[0;34m(\u001b[0m\u001b[0;34m'step1_coords.h5'\u001b[0m\u001b[0;34m,\u001b[0m \u001b[0;34m'r'\u001b[0m\u001b[0;34m)\u001b[0m \u001b[0;32mas\u001b[0m \u001b[0mffi\u001b[0m\u001b[0;34m,\u001b[0m \u001b[0mh5\u001b[0m\u001b[0;34m.\u001b[0m\u001b[0mFile\u001b[0m\u001b[0;34m(\u001b[0m\u001b[0;34m'step2_coords.h5'\u001b[0m\u001b[0;34m,\u001b[0m \u001b[0;34m'r'\u001b[0m\u001b[0;34m)\u001b[0m \u001b[0;32mas\u001b[0m \u001b[0mnfi\u001b[0m\u001b[0;34m:\u001b[0m\u001b[0;34m\u001b[0m\u001b[0;34m\u001b[0m\u001b[0m\n\u001b[0m\u001b[1;32m      3\u001b[0m     \u001b[0mprint\u001b[0m\u001b[0;34m(\u001b[0m\u001b[0mnfi\u001b[0m\u001b[0;34m[\u001b[0m\u001b[0mkey\u001b[0m\u001b[0;34m]\u001b[0m\u001b[0;34m[\u001b[0m\u001b[0;36m0\u001b[0m\u001b[0;34m:\u001b[0m\u001b[0;36m2\u001b[0m\u001b[0;34m,\u001b[0m\u001b[0;34m:\u001b[0m\u001b[0;36m5\u001b[0m\u001b[0;34m]\u001b[0m\u001b[0;34m)\u001b[0m\u001b[0;34m\u001b[0m\u001b[0;34m\u001b[0m\u001b[0m\n\u001b[1;32m      4\u001b[0m     \u001b[0mprint\u001b[0m\u001b[0;34m(\u001b[0m\u001b[0mffi\u001b[0m\u001b[0;34m[\u001b[0m\u001b[0mkey\u001b[0m\u001b[0;34m]\u001b[0m\u001b[0;34m[\u001b[0m\u001b[0;36m0\u001b[0m\u001b[0;34m:\u001b[0m\u001b[0;36m2\u001b[0m\u001b[0;34m,\u001b[0m\u001b[0;34m:\u001b[0m\u001b[0;36m5\u001b[0m\u001b[0;34m]\u001b[0m\u001b[0;34m)\u001b[0m\u001b[0;34m\u001b[0m\u001b[0;34m\u001b[0m\u001b[0m\n",
      "\u001b[0;32m~/anaconda3/envs/mda/lib/python3.6/site-packages/h5py/_hl/files.py\u001b[0m in \u001b[0;36m__init__\u001b[0;34m(self, name, mode, driver, libver, userblock_size, swmr, **kwds)\u001b[0m\n\u001b[1;32m    310\u001b[0m             \u001b[0;32mwith\u001b[0m \u001b[0mphil\u001b[0m\u001b[0;34m:\u001b[0m\u001b[0;34m\u001b[0m\u001b[0;34m\u001b[0m\u001b[0m\n\u001b[1;32m    311\u001b[0m                 \u001b[0mfapl\u001b[0m \u001b[0;34m=\u001b[0m \u001b[0mmake_fapl\u001b[0m\u001b[0;34m(\u001b[0m\u001b[0mdriver\u001b[0m\u001b[0;34m,\u001b[0m \u001b[0mlibver\u001b[0m\u001b[0;34m,\u001b[0m \u001b[0;34m**\u001b[0m\u001b[0mkwds\u001b[0m\u001b[0;34m)\u001b[0m\u001b[0;34m\u001b[0m\u001b[0;34m\u001b[0m\u001b[0m\n\u001b[0;32m--> 312\u001b[0;31m                 \u001b[0mfid\u001b[0m \u001b[0;34m=\u001b[0m \u001b[0mmake_fid\u001b[0m\u001b[0;34m(\u001b[0m\u001b[0mname\u001b[0m\u001b[0;34m,\u001b[0m \u001b[0mmode\u001b[0m\u001b[0;34m,\u001b[0m \u001b[0muserblock_size\u001b[0m\u001b[0;34m,\u001b[0m \u001b[0mfapl\u001b[0m\u001b[0;34m,\u001b[0m \u001b[0mswmr\u001b[0m\u001b[0;34m=\u001b[0m\u001b[0mswmr\u001b[0m\u001b[0;34m)\u001b[0m\u001b[0;34m\u001b[0m\u001b[0;34m\u001b[0m\u001b[0m\n\u001b[0m\u001b[1;32m    313\u001b[0m \u001b[0;34m\u001b[0m\u001b[0m\n\u001b[1;32m    314\u001b[0m                 \u001b[0;32mif\u001b[0m \u001b[0mswmr_support\u001b[0m\u001b[0;34m:\u001b[0m\u001b[0;34m\u001b[0m\u001b[0;34m\u001b[0m\u001b[0m\n",
      "\u001b[0;32m~/anaconda3/envs/mda/lib/python3.6/site-packages/h5py/_hl/files.py\u001b[0m in \u001b[0;36mmake_fid\u001b[0;34m(name, mode, userblock_size, fapl, fcpl, swmr)\u001b[0m\n\u001b[1;32m    140\u001b[0m         \u001b[0;32mif\u001b[0m \u001b[0mswmr\u001b[0m \u001b[0;32mand\u001b[0m \u001b[0mswmr_support\u001b[0m\u001b[0;34m:\u001b[0m\u001b[0;34m\u001b[0m\u001b[0;34m\u001b[0m\u001b[0m\n\u001b[1;32m    141\u001b[0m             \u001b[0mflags\u001b[0m \u001b[0;34m|=\u001b[0m \u001b[0mh5f\u001b[0m\u001b[0;34m.\u001b[0m\u001b[0mACC_SWMR_READ\u001b[0m\u001b[0;34m\u001b[0m\u001b[0;34m\u001b[0m\u001b[0m\n\u001b[0;32m--> 142\u001b[0;31m         \u001b[0mfid\u001b[0m \u001b[0;34m=\u001b[0m \u001b[0mh5f\u001b[0m\u001b[0;34m.\u001b[0m\u001b[0mopen\u001b[0m\u001b[0;34m(\u001b[0m\u001b[0mname\u001b[0m\u001b[0;34m,\u001b[0m \u001b[0mflags\u001b[0m\u001b[0;34m,\u001b[0m \u001b[0mfapl\u001b[0m\u001b[0;34m=\u001b[0m\u001b[0mfapl\u001b[0m\u001b[0;34m)\u001b[0m\u001b[0;34m\u001b[0m\u001b[0;34m\u001b[0m\u001b[0m\n\u001b[0m\u001b[1;32m    143\u001b[0m     \u001b[0;32melif\u001b[0m \u001b[0mmode\u001b[0m \u001b[0;34m==\u001b[0m \u001b[0;34m'r+'\u001b[0m\u001b[0;34m:\u001b[0m\u001b[0;34m\u001b[0m\u001b[0;34m\u001b[0m\u001b[0m\n\u001b[1;32m    144\u001b[0m         \u001b[0mfid\u001b[0m \u001b[0;34m=\u001b[0m \u001b[0mh5f\u001b[0m\u001b[0;34m.\u001b[0m\u001b[0mopen\u001b[0m\u001b[0;34m(\u001b[0m\u001b[0mname\u001b[0m\u001b[0;34m,\u001b[0m \u001b[0mh5f\u001b[0m\u001b[0;34m.\u001b[0m\u001b[0mACC_RDWR\u001b[0m\u001b[0;34m,\u001b[0m \u001b[0mfapl\u001b[0m\u001b[0;34m=\u001b[0m\u001b[0mfapl\u001b[0m\u001b[0;34m)\u001b[0m\u001b[0;34m\u001b[0m\u001b[0;34m\u001b[0m\u001b[0m\n",
      "\u001b[0;32mh5py/_objects.pyx\u001b[0m in \u001b[0;36mh5py._objects.with_phil.wrapper\u001b[0;34m()\u001b[0m\n",
      "\u001b[0;32mh5py/_objects.pyx\u001b[0m in \u001b[0;36mh5py._objects.with_phil.wrapper\u001b[0;34m()\u001b[0m\n",
      "\u001b[0;32mh5py/h5f.pyx\u001b[0m in \u001b[0;36mh5py.h5f.open\u001b[0;34m()\u001b[0m\n",
      "\u001b[0;31mOSError\u001b[0m: Unable to open file (unable to open file: name = 'step1_coords.h5', errno = 2, error message = 'No such file or directory', flags = 0, o_flags = 0)"
     ]
    }
   ],
   "source": [
    "key = 'cartesian_coords'\n",
    "with h5.File('step1_coords.h5', 'r') as ffi, h5.File('step2_coords.h5', 'r') as nfi:\n",
    "    print(nfi[key][0:2,:5])\n",
    "    print(ffi[key][0:2,:5])"
   ]
  },
  {
   "cell_type": "code",
   "execution_count": 87,
   "metadata": {},
   "outputs": [
    {
     "name": "stdout",
     "output_type": "stream",
     "text": [
      "1.0 1.0 1.4142135623730951\n",
      "[-1. -0. -0.] [1. 0. 0.]\n",
      "[-0. -1. -0.] [0. 1. 0.]\n",
      "[ 0.70710678 -0.70710678 -0.        ] [-0.70710678  0.70710678  0.        ]\n"
     ]
    },
    {
     "name": "stderr",
     "output_type": "stream",
     "text": [
      "/home/aduster/anaconda3/envs/mda/lib/python3.6/site-packages/ipykernel/__main__.py:27: RuntimeWarning: invalid value encountered in double_scalars\n"
     ]
    }
   ],
   "source": [
    "npa = np.asarray\n",
    "eta =  1e-3\n",
    "zeta = 1.\n",
    "lam = -1.\n",
    "cos = 0.0\n",
    "gauss = 0.98841082358278842\n",
    "fc_prod = 0.85579455973278462\n",
    "\n",
    "xi = npa([0., 0., 0.])\n",
    "xj = npa([1., 0., 0.])\n",
    "xk = npa([0., 1., 0.])\n",
    "ref = [xi, xj, xk]\n",
    "xi = npa([0., 0., 0.]) + 1e-5\n",
    "deltai = [xi, xj, xk]\n",
    "\n",
    "def get_geom_parameters(xi, xj, xk):\n",
    "    rij = np.linalg.norm(xj - xi)\n",
    "    rik = np.linalg.norm(xk - xi)\n",
    "    rjk = np.linalg.norm(xk - xj)\n",
    "    drijdi = -(xj - xi) / rij\n",
    "    drijdj = -drijdi\n",
    "    drikdi = -(xk - xi) / rik\n",
    "    drikdk = -drikdi\n",
    "    drjkdj = -(xk - xj) / rjk\n",
    "    drjkdk = -drjkdj\n",
    "    \n",
    "    cos = np.dot(xi, xj) / (np.linalg.norm(xi)* np.linalg.norm(xj))\n",
    "    \n",
    "    return rij, rik, rjk, drijdi, drijdj, drikdi, drikdk, drjkdj, drjkdk, cos\n",
    "\n",
    "rij, rik, rjk, drijdi, drijdj, drikdi, drikdk, drjkdj, drjkdk, cos = get_geom_parameters(*ref)\n",
    "\n",
    "print(rij, rik, rjk)\n",
    "print(drijdi, drijdj)\n",
    "print(drikdi, drikdk)\n",
    "print(drjkdj, drjkdk)"
   ]
  },
  {
   "cell_type": "code",
   "execution_count": 80,
   "metadata": {},
   "outputs": [
    {
     "data": {
      "text/plain": [
       "array([-1., -0., -0.])"
      ]
     },
     "execution_count": 80,
     "metadata": {},
     "output_type": "execute_result"
    }
   ],
   "source": []
  },
  {
   "cell_type": "code",
   "execution_count": 50,
   "metadata": {},
   "outputs": [
    {
     "name": "stdout",
     "output_type": "stream",
     "text": [
      "-1.0000000000287557\n"
     ]
    }
   ],
   "source": [
    "# Check the derivative of the angle with resepct to cosine\n",
    "s = 1e-6\n",
    "a = ((1 + lam * cos) ** zeta)\n",
    "b = ((1 + lam * (cos + s)) ** zeta)\n",
    "print((b-a)/s)\n",
    "assert np.isclose((b-a)/s, -1.0000000000000000)"
   ]
  },
  {
   "cell_type": "code",
   "execution_count": 89,
   "metadata": {},
   "outputs": [
    {
     "name": "stdout",
     "output_type": "stream",
     "text": [
      "gaussian before preturbing 0.9884108236502814\n",
      "[0.00674929 0.00674929 0.        ]\n",
      "gaussian after preturbing 0.9884109586343709\n",
      "[-9.99990e-01 -9.99990e-01  2.00002e-05]\n",
      "numerical dgauss/dxi [-1.34982740e-02 -1.34982740e-02  2.69970879e-07]\n",
      "numerical gradient of gaussian function for increase or decrease 0.013498408946155392\n"
     ]
    },
    {
     "name": "stderr",
     "output_type": "stream",
     "text": [
      "/home/aduster/anaconda3/envs/mda/lib/python3.6/site-packages/ipykernel/__main__.py:27: RuntimeWarning: invalid value encountered in double_scalars\n"
     ]
    }
   ],
   "source": [
    "# Calculate the gradient for the exponential term for XI\n",
    "# Note that for the step, whether you should add or subtract x depends on\n",
    "# wheter that decreases or increases rij. Here they will get closer so\n",
    "# I subtract.\n",
    "s = 1e-5\n",
    "rij, rik, rjk, drijdi, drijdj, drikdi, drikdk, drjkdj, drjkdk, cos = get_geom_parameters(*ref)\n",
    "a = np.exp(-eta * (rij + rik + rjk)**2)\n",
    "print(\"gaussian before preturbing\", a)\n",
    "print( a * -2 * eta * (rij + rik + rjk) * (drijdi + drikdi))\n",
    "\n",
    "rij, rik, rjk, drijdi, drijdj, drikdi, drikdk, drjkdj, drjkdk, cos = get_geom_parameters(*deltai)\n",
    "b = np.exp(-eta * (rij + rik + rjk)**2)\n",
    "print(\"gaussian after preturbing\", b)\n",
    "dgauss = np.array([0.0000000000000000, 0.99999999500000003, -9.9999999500000007E-005])\n",
    "print (drijdi + drikdi)\n",
    "num_dgauss = (b - a)/s * (drijdi + drikdi)\n",
    "print(\"numerical dgauss/dxi\", num_dgauss)\n",
    "print(\"numerical gradient of gaussian function for increase or decrease\",(b - a)/s)"
   ]
  },
  {
   "cell_type": "code",
   "execution_count": 74,
   "metadata": {},
   "outputs": [
    {
     "name": "stdout",
     "output_type": "stream",
     "text": [
      "[0.00674929 0.00674929 0.        ]\n"
     ]
    }
   ],
   "source": [
    "# Analytical gradient for exponential term\n",
    "f = np.exp(-eta * (rij + rik + rjk)**2)\n",
    "df = f * -2 * eta * (rij + rik + rjk) * (drijdi + drikdi)\n",
    "print (df)"
   ]
  },
  {
   "cell_type": "code",
   "execution_count": 90,
   "metadata": {},
   "outputs": [
    {
     "data": {
      "text/plain": [
       "0.8557945599604958"
      ]
     },
     "execution_count": 90,
     "metadata": {},
     "output_type": "execute_result"
    }
   ],
   "source": [
    "9.61939766E-01 * 9.61939766E-01 * 9.24855246E-01"
   ]
  },
  {
   "cell_type": "code",
   "execution_count": 28,
   "metadata": {},
   "outputs": [
    {
     "name": "stdout",
     "output_type": "stream",
     "text": [
      "numerical dgauss/dxi [ 0.01152176 -0.00477247 -0.        ]\n",
      "observed gradient:   [0.011521760909912047, -0.004772469631305742, -0.0]\n"
     ]
    }
   ],
   "source": [
    "# Check the derivative of the function with respect to the gaussian filter\n",
    "# THIS WAS FOR GEOMETRY #10 We are doing with respect to j here\n",
    "#\n",
    "# This is correct i think!!!\n",
    "s = 1e-6\n",
    "a = np.exp(-eta * (rij + rik + rjk)**2)\n",
    "b = np.exp(-eta * (rij + s + rik + rjk)**2)\n",
    "computer_grad = [   1.1521760909912047E-002,  -4.7724696313057417E-003,  -0.0000000000000000]\n",
    "# drijdxi = np.array([0.99999999500000003, 0.0000000000000000, -9.9999999500000007E-005])\n",
    "# drikdxi = np.array([0.0000000000000000, 0.99999999500000003, -9.9999999500000007E-005])\n",
    "drijdxj = np.array([-1.0000000000000000,-0.0000000000000000 ,-0.0000000000000000 ])\n",
    "drjkdxj = np.array([-0.70710678118654746, 0.70710678118654746,0.00])\n",
    "dgauss = np.array([0.0000000000000000, 0.99999999500000003, -9.9999999500000007E-005])\n",
    "\n",
    "num_dgauss = (b - a)/s * (drijdxj + drjkdxj)\n",
    "print(\"numerical dgauss/dxi\", num_dgauss)\n",
    "print(\"observed gradient:  \", computer_grad)"
   ]
  },
  {
   "cell_type": "code",
   "execution_count": 9,
   "metadata": {},
   "outputs": [
    {
     "name": "stdout",
     "output_type": "stream",
     "text": [
      "numerical dgauss/dxi [-0.00477247  0.01152176  0.        ]\n",
      "observed gradient:   [-0.004772469631305742, 0.011521760909912047, -0.0]\n"
     ]
    }
   ],
   "source": [
    "# Check the derivative of the function with respect to the gaussian filter\n",
    "# THIS WAS FOR GEOMETRY #10 We are doing with respect to k here\n",
    "#\n",
    "# This is correct i think!!!\n",
    "s = 1e-6\n",
    "a = np.exp(-eta * (rij + rik + rjk)**2)\n",
    "b = np.exp(-eta * (rij + s + rik + rjk)**2)\n",
    "computer_grad = [-4.7724696313057417E-003, 1.1521760909912047E-002,  -0.0000000000000000]\n",
    "drikdxk = np.array([ -0.0000000000000000,-1.0000000000000000,-0.0000000000000000])\n",
    "drjkdxk = np.array([0.70710678118654746, -0.70710678118654746, -0.0000000000000000 ])\n",
    "dgauss = np.array([0.0000000000000000, 0.99999999500000003, -9.9999999500000007E-005])\n",
    "\n",
    "num_dgauss = (b - a)/s * (drikdxk + drjkdxk)\n",
    "print(\"numerical dgauss/dxi\", num_dgauss)\n",
    "print(\"observed gradient:  \", computer_grad)"
   ]
  },
  {
   "cell_type": "code",
   "execution_count": 10,
   "metadata": {},
   "outputs": [
    {
     "name": "stdout",
     "output_type": "stream",
     "text": [
      "numerical dcos -0.99999999995\n",
      "numerical dcos -0.99999999995\n",
      "numerical dcos 9.999999999e-06\n"
     ]
    }
   ],
   "source": [
    "# check for the derivative of cosine\n",
    "#\n",
    "# Lets do the same thing now with XI\n",
    "def f(a, b):\n",
    "    return np.dot(a, b) / (np.linalg.norm(a) * np.linalg.norm(b))\n",
    "s = 1e-5\n",
    "xi = np.asarray([0,0,0], dtype=float)\n",
    "xj = np.asarray([1,0,0], dtype=float)\n",
    "xk = np.asarray([0,1,0], dtype=float)\n",
    "\n",
    "for i in range(3):\n",
    "    vij = xj-xi\n",
    "    vik = xk-xi\n",
    "    xib = np.copy(xi)\n",
    "    xib[i] += s\n",
    "    vijb = xj-xib\n",
    "    vikb = xk-xib\n",
    "    a = f(vij, vik)\n",
    "    b = f(vijb,vikb)\n",
    "    num_dcos_i = (b-a)/s\n",
    "    print(\"numerical dcos\", num_dcos_i)\n",
    "    "
   ]
  },
  {
   "cell_type": "code",
   "execution_count": 11,
   "metadata": {},
   "outputs": [
    {
     "name": "stdout",
     "output_type": "stream",
     "text": [
      "numerical dcos 0.0 0.99999999995\n",
      "numerical dcos 0.99999999995 0.0\n",
      "numerical dcos 0.0 0.0\n",
      "Derivatives after adding delta s in each cartesian direction\n",
      "For point j:\n",
      "[0.0, 0.99999999995, 0.0]\n",
      "For point k:\n",
      "[0.99999999995, 0.0, 0.0]\n"
     ]
    }
   ],
   "source": [
    "# check for the derivative of cosine\n",
    "#\n",
    "# Here , this is numerically checked by adding delta s to each direction\n",
    "# and comparing.\n",
    "def f(a, b):\n",
    "    return np.dot(a, b) / (np.linalg.norm(a) * np.linalg.norm(b))\n",
    "s = 1e-5\n",
    "dvijdj = []\n",
    "dvikdk = []\n",
    "for i in range(3):\n",
    "    vij = np.asarray([1.0, 0.00, 0.0])\n",
    "    vik = np.asarray([0.0, 1.0, 0.0])\n",
    "    vijb = np.asarray([1.0, 0.00, 0.0])\n",
    "    vijb[i] += s\n",
    "    vikb = np.copy(vik)\n",
    "    vikb[i] += s\n",
    "    a = f(vij, vik)\n",
    "    b = f(vijb,vik)\n",
    "    num_dcos_j = (b - a)/s \n",
    "    a = f(vij, vik)\n",
    "    b = f(vij,vikb)\n",
    "    num_dcos_k = (b - a)/s \n",
    "\n",
    "    print(\"numerical dcos\", num_dcos_j, num_dcos_k)\n",
    "    dvijdj.append(num_dcos_j)\n",
    "    dvikdk.append(num_dcos_k)\n",
    "print(\"Derivatives after adding delta s in each cartesian direction\")\n",
    "print(\"For point j:\")\n",
    "print(dvijdj)\n",
    "print(\"For point k:\")\n",
    "print(dvikdk)"
   ]
  },
  {
   "cell_type": "code",
   "execution_count": 12,
   "metadata": {},
   "outputs": [
    {
     "name": "stdout",
     "output_type": "stream",
     "text": [
      "numerical dcos 0.0 0.49999469673434044\n",
      "numerical dcos 0.7071032456118508 -0.4999982322284601\n",
      "numerical dcos -3.5355385286095493e-06 -3.5355385286095493e-06\n",
      "Numerical dvijdj: [0.0, 0.7071032456118508, -3.5355385286095493e-06]\n",
      "Numerical dvikdk: [0.49999469673434044, -0.4999982322284601, -3.5355385286095493e-06]\n"
     ]
    }
   ],
   "source": [
    "# check for the derivative of cosine\n",
    "#\n",
    "# Let us change to a situation now where cos(theta) != 0\n",
    "def f(a, b):\n",
    "    return np.dot(a, b) / (np.linalg.norm(a) * np.linalg.norm(b))\n",
    "s = 1e-5\n",
    "xi = np.asarray([0,0,0], dtype=float)\n",
    "xj = np.asarray([1,0,0], dtype=float)\n",
    "xk = np.asarray([np.sqrt(2)/2,np.sqrt(2)/2,0], dtype=float)\n",
    "vij = xj-xi\n",
    "vik = xk-xi\n",
    "rij = np.linalg.norm(vij)\n",
    "rik = np.linalg.norm(vik)\n",
    "drijdi = (xj - xi) / rij\n",
    "drijdj = -drijdi\n",
    "drikdi = (xk - xi) / rik\n",
    "drikdk = -drijdi\n",
    "cos = f(vij,vik)\n",
    "dvijdj = []\n",
    "dvikdk = []\n",
    "for i in range(3):\n",
    "    vijb = np.asarray([1.0, 0.00, 0.0])\n",
    "    vijb[i] += s\n",
    "    vikb = np.copy(vik)\n",
    "    vikb[i] += s\n",
    "    a = f(vij, vik)\n",
    "    b = f(vijb,vik)\n",
    "    num_dcos_j = (b - a)/s \n",
    "    a = f(vij, vik)\n",
    "    b = f(vij,vikb)\n",
    "    num_dcos_k = (b - a)/s \n",
    "    print(\"numerical dcos\", num_dcos_j, num_dcos_k)\n",
    "    dvijdj.append(num_dcos_j)\n",
    "    dvikdk.append(num_dcos_k)    \n",
    "print(\"Numerical dvijdj:\", dvijdj)\n",
    "print(\"Numerical dvikdk:\", dvikdk)"
   ]
  },
  {
   "cell_type": "code",
   "execution_count": 13,
   "metadata": {},
   "outputs": [
    {
     "name": "stdout",
     "output_type": "stream",
     "text": [
      "numerical dcos -0.5000053033499263\n",
      "numerical dcos -0.20710354891040336\n",
      "numerical dcos 2.9289348724148563e-06\n"
     ]
    }
   ],
   "source": [
    "# check for the derivative of cosine\n",
    "#\n",
    "# Let us change to a situation now where cos(theta) != 0\n",
    "def f(a, b):\n",
    "    return np.dot(a, b) / (np.linalg.norm(a) * np.linalg.norm(b))\n",
    "s = 1e-5\n",
    "xi = np.asarray([0,0,0], dtype=float)\n",
    "xj = np.asarray([1,0,0], dtype=float)\n",
    "xk = np.asarray([np.sqrt(2)/2,np.sqrt(2)/2,0], dtype=float)\n",
    "vij = xj-xi\n",
    "vik = xk-xi\n",
    "rij = np.linalg.norm(vij)\n",
    "rik = np.linalg.norm(vik)\n",
    "drijdi = (xj - xi) / rij\n",
    "drijdj = -drijdi\n",
    "drikdi = (xk - xi) / rik\n",
    "drikdk = -drijdi\n",
    "cos = f(vij,vik)\n",
    "sin = np.sqrt(1-cos**2)\n",
    "for i in range(3):\n",
    "    xib = np.copy(xi)\n",
    "    xib[i] += s\n",
    "    vijb = xj-xib\n",
    "    vikb = xk-xib\n",
    "    a = f(vij, vik)\n",
    "    b = f(vijb,vikb)\n",
    "    num_dcos_i = (b-a)/s\n",
    "    print(\"numerical dcos\", num_dcos_i)\n",
    "    "
   ]
  },
  {
   "cell_type": "code",
   "execution_count": 14,
   "metadata": {},
   "outputs": [
    {
     "data": {
      "image/png": "[encoded data removed]",
      "text/plain": [
       "<Figure size 432x288 with 1 Axes>"
      ]
     },
     "metadata": {
      "needs_background": "light"
     },
     "output_type": "display_data"
    }
   ],
   "source": [
    "#\n",
    "# This plot shows that the gradient of the angle is perpendicular to\n",
    "# The vector Vij\n",
    "#\n",
    "import matplotlib.pyplot as plt\n",
    "origin=[0,0]\n",
    "plt.quiver(*origin,dvijdj[0], dvijdj[1])\n",
    "plt.quiver(*origin,vij[0], vij[1])\n",
    "plt.quiver(*origin,dvijdj[0], dvijdj[1])\n",
    "plt.quiver(*origin,vij[0], vij[1])\n",
    "plt.show()"
   ]
  },
  {
   "cell_type": "code",
   "execution_count": 15,
   "metadata": {},
   "outputs": [
    {
     "data": {
      "text/plain": [
       "array([1.41421356, 0.70710678, 0.        ])"
      ]
     },
     "execution_count": 15,
     "metadata": {},
     "output_type": "execute_result"
    }
   ],
   "source": [
    "-cos/rij*drijdj + vik/(rij*rik)"
   ]
  },
  {
   "cell_type": "code",
   "execution_count": 16,
   "metadata": {
    "scrolled": true
   },
   "outputs": [
    {
     "name": "stdout",
     "output_type": "stream",
     "text": [
      "-2.828397120040684\n",
      "-3.414266842457185\n"
     ]
    }
   ],
   "source": [
    "print(1.41421356/-0.5000053033499263)\n",
    "print(0.70710678/-0.20710354891040336)\n"
   ]
  },
  {
   "cell_type": "code",
   "execution_count": 17,
   "metadata": {},
   "outputs": [
    {
     "name": "stdout",
     "output_type": "stream",
     "text": [
      "-1.4141985623934117\n",
      "0.5000000008390157\n"
     ]
    }
   ],
   "source": [
    "print(sin/-0.5000053033499263)\n",
    "print(sin/1.41421356)\n"
   ]
  },
  {
   "cell_type": "code",
   "execution_count": 167,
   "metadata": {},
   "outputs": [
    {
     "name": "stdout",
     "output_type": "stream",
     "text": [
      "0.5000000000000001\n",
      "numerical dcos 0.0 0.7499994374438046\n",
      "numerical dcos 1.732049807579017 -0.4330123895557314\n",
      "numerical dcos -9.999778782798785e-07 -2.5002222514558525e-07\n",
      "Numerical dvijdj: [ 0.00000000e+00  1.73204981e+00 -9.99977878e-07]\n",
      "Numerical dvikdk: [ 7.49999437e-01 -4.33012390e-01 -2.50022225e-07]\n"
     ]
    }
   ],
   "source": [
    "# check for the derivative of cosine\n",
    "#\n",
    "# Let us change to a situation now where cos(theta) != 0\n",
    "# Here, cos of theta is equal to 0.5\n",
    "def f(a, b):\n",
    "    return np.dot(a, b) / (np.linalg.norm(a) * np.linalg.norm(b))\n",
    "s = 1e-6\n",
    "xi = np.asarray([0,0,0], dtype=float)\n",
    "xj = np.asarray([0.5,0,0], dtype=float)\n",
    "xk = np.asarray([1/2,np.sqrt(3)/2,0], dtype=float)\n",
    "vij = xj-xi\n",
    "vik = xk-xi\n",
    "vjk = xk-xj\n",
    "rij = np.linalg.norm(vij)\n",
    "rik = np.linalg.norm(vik)\n",
    "rjk = np.linalg.norm(vjk)\n",
    "drijdi = -(xj - xi) / rij\n",
    "drijdj = -drijdi\n",
    "drikdi = -(xk - xi) / rik\n",
    "drikdk = -drikdi\n",
    "drjkdj = -(xk-xj)/rjk\n",
    "drjkdk = -drjkdj\n",
    "cos = f(vij,vik)\n",
    "dvijdj = []\n",
    "dvikdk = []\n",
    "print(cos)\n",
    "for i in range(3):\n",
    "    vijb = np.copy(vij)\n",
    "    vijb[i] += s\n",
    "    vikb = np.copy(vik)\n",
    "    vikb[i] += s\n",
    "    a = f(vij, vik)\n",
    "    b = f(vijb,vik)\n",
    "    num_dcos_j = (b - a)/s \n",
    "    a = f(vij, vik)\n",
    "    b = f(vij,vikb)\n",
    "    num_dcos_k = (b - a)/s \n",
    "    print(\"numerical dcos\", num_dcos_j, num_dcos_k)\n",
    "    dvijdj.append(num_dcos_j)\n",
    "    dvikdk.append(num_dcos_k)    \n",
    "dvijdj = np.asarray(dvijdj)\n",
    "dvikdk = np.asarray(dvikdk)\n",
    "print(\"Numerical dvijdj:\", dvijdj)\n",
    "print(\"Numerical dvikdk:\", dvikdk)"
   ]
  },
  {
   "cell_type": "code",
   "execution_count": 154,
   "metadata": {},
   "outputs": [
    {
     "name": "stdout",
     "output_type": "stream",
     "text": [
      "[1. 0. 0.]\n",
      "[-1. -0. -0.]\n",
      "[-0.5       -0.8660254 -0.       ]\n",
      "[0.5       0.8660254 0.       ]\n",
      "[-0. -1. -0.]\n",
      "[0. 1. 0.]\n",
      "0.5 0.9999999999999999 0.8660254037844386\n",
      "[0.5 0.  0. ]\n"
     ]
    }
   ],
   "source": [
    "print(drijdj)\n",
    "print(drijdi)\n",
    "print(drikdi)\n",
    "print(drikdk)\n",
    "print(drjkdj)\n",
    "print(drjkdk)\n",
    "print(rij, rik, rjk)\n",
    "print(vij)"
   ]
  },
  {
   "cell_type": "code",
   "execution_count": 142,
   "metadata": {},
   "outputs": [
    {
     "name": "stdout",
     "output_type": "stream",
     "text": [
      "numerical dcos [-7.50000563e-01 -4.33012390e-01  4.99933428e-07]\n"
     ]
    }
   ],
   "source": [
    "# check for the derivative of cosine\n",
    "#\n",
    "# Let us change to a situation now where cos(theta) != 0\n",
    "def f(a, b):\n",
    "    return np.dot(a, b) / (np.linalg.norm(a) * np.linalg.norm(b))\n",
    "s = 1e-6\n",
    "xi = np.asarray([0,0,0], dtype=float)\n",
    "xj = np.asarray([1,0,0], dtype=float)\n",
    "xk = np.asarray([1/2,np.sqrt(3)/2,0], dtype=float)\n",
    "vij = xj-xi\n",
    "vik = xk-xi\n",
    "rij = np.linalg.norm(vij)\n",
    "rik = np.linalg.norm(vik)\n",
    "rjk = np.linalg.norm(xj-xk)\n",
    "drijdi = -(xj - xi) / rij\n",
    "drijdj = -drijdi\n",
    "drikdi = -(xk - xi) / rik\n",
    "drikdk = -drijdi\n",
    "cos = f(vij,vik)\n",
    "sin = np.sqrt(1-cos**2)\n",
    "dcosdi = np.empty(3)\n",
    "for i in range(3):\n",
    "    xib = np.copy(xi)\n",
    "    xib[i] += s\n",
    "    vijb = xj-xib\n",
    "    vikb = xk-xib\n",
    "    a = f(vij, vik)\n",
    "    b = f(vijb,vikb)\n",
    "    dcosdi[i] = (b-a)/s\n",
    "print(\"numerical dcos\", dcosdi)\n",
    "    "
   ]
  },
  {
   "cell_type": "code",
   "execution_count": 20,
   "metadata": {},
   "outputs": [
    {
     "data": {
      "image/png": "[encoded data removed]",
      "text/plain": [
       "<Figure size 432x288 with 1 Axes>"
      ]
     },
     "metadata": {
      "needs_background": "light"
     },
     "output_type": "display_data"
    }
   ],
   "source": [
    "#\n",
    "# This plot shows that the gradient of the angle is perpendicular to\n",
    "# The vector Vij\n",
    "#\n",
    "import matplotlib.pyplot as plt\n",
    "origin=[0,0]\n",
    "plt.quiver(*origin,dvijdj[0], dvijdj[1], color='g')\n",
    "plt.quiver(*origin,vij[0], vij[1])\n",
    "\n",
    "plt.quiver(*origin,dvikdk[0], dvikdk[1], color='r')\n",
    "plt.quiver(*origin,vik[0], vik[1], color='b')\n",
    "\n",
    "plt.show()"
   ]
  },
  {
   "cell_type": "code",
   "execution_count": 73,
   "metadata": {
    "scrolled": true
   },
   "outputs": [
    {
     "name": "stdout",
     "output_type": "stream",
     "text": [
      "\n",
      "[2.66545896e-10 8.66025404e-01 0.00000000e+00]\n",
      "[ 0.00000000e+00  8.66022904e-01 -2.50000021e-06]\n",
      "[ 7.49994375e-01 -4.33009577e-01 -2.50000021e-06]\n",
      "[-0.75      -0.4330127 -0.       ]\n",
      "[-0.75      -0.4330127  0.       ]\n"
     ]
    }
   ],
   "source": [
    "npa = np.asarray\n",
    "npl = np.linalg.norm\n",
    "print()\n",
    "obdcosdi = npa([-0.75000000026654590   ,-0.43301270266167102, 0.0])\n",
    "obdcosdj = npa([2.6654589646568638E-010, 0.86602540439999998, 0.0])\n",
    "obdcosdk = npa([0.75000000039981884    ,-0.43301270150749344, 0.0])\n",
    "\n"
   ]
  },
  {
   "cell_type": "code",
   "execution_count": 40,
   "metadata": {},
   "outputs": [
    {
     "data": {
      "image/png": "[encoded data removed]",
      "text/plain": [
       "<Figure size 432x288 with 1 Axes>"
      ]
     },
     "metadata": {
      "needs_background": "light"
     },
     "output_type": "display_data"
    }
   ],
   "source": [
    "import matplotlib.pyplot as plt\n",
    "origin=[0,0]\n",
    "plt.quiver(*origin,obdcosdj[0], obdcosdj[1])\n",
    "plt.quiver(*origin,vij[0], vij[1], color='r')\n",
    "plt.show()"
   ]
  },
  {
   "cell_type": "code",
   "execution_count": 41,
   "metadata": {},
   "outputs": [
    {
     "name": "stdout",
     "output_type": "stream",
     "text": [
      "0.5000000000000001 1.0 0.9999999999999999\n"
     ]
    }
   ],
   "source": [
    "print(cos,rij,rik)"
   ]
  },
  {
   "cell_type": "code",
   "execution_count": 42,
   "metadata": {},
   "outputs": [
    {
     "name": "stdout",
     "output_type": "stream",
     "text": [
      "[1.        0.8660254 0.       ]\n"
     ]
    }
   ],
   "source": [
    "anal = -cos/rij*(rik*drijdj)+(xk-xi)/(rij*rik)\n",
    "print(anal)"
   ]
  },
  {
   "cell_type": "code",
   "execution_count": 135,
   "metadata": {},
   "outputs": [
    {
     "name": "stdout",
     "output_type": "stream",
     "text": [
      "0.49999999999999994\n",
      "0.5000000000000001\n",
      "0.8660254037844386\n"
     ]
    }
   ],
   "source": [
    "print((rij**2 + rik**2 - rjk**2)/(2.0*rij*rik))\n",
    "print(cos)\n",
    "print(np.sqrt(3)/2)"
   ]
  },
  {
   "cell_type": "code",
   "execution_count": 155,
   "metadata": {},
   "outputs": [
    {
     "data": {
      "text/plain": [
       "array([0.       , 0.8660254, 0.       ])"
      ]
     },
     "execution_count": 155,
     "metadata": {},
     "output_type": "execute_result"
    }
   ],
   "source": [
    "(-cos/rij*(drijdj) + (xk-xi)/(rij*rik))*rij"
   ]
  },
  {
   "cell_type": "code",
   "execution_count": 80,
   "metadata": {},
   "outputs": [
    {
     "name": "stdout",
     "output_type": "stream",
     "text": [
      "[ 0.        -0.8660254 -0.       ]\n",
      "[ 0.00000000e+00  8.66022904e-01 -2.50000021e-06]\n",
      "[-0.75       0.4330127  0.       ]\n",
      "1.0\n",
      "[-7.49994375e-01 -4.33013327e-01  5.00000041e-06]\n",
      "[-7.50005625e-01 -4.33009577e-01  5.00000041e-06]\n",
      "0.8660287126990512\n",
      "0.8660287126990512\n",
      "0.8660229037485424\n",
      "0.8660189699016453\n"
     ]
    }
   ],
   "source": [
    "print(np.cross(vij,np.cross(vij,xk-xj)))\n",
    "print(dvijdj)\n",
    "print(np.cross(vik,np.cross(vik,xj-xk)))\n",
    "print(np.linalg.norm(np.cross(vij,np.cross(vij,xk-xj))/-sin))\n",
    "eqops = -1 * (dvijdj + dvikdk)\n",
    "print(eqops)\n",
    "print(dcosdi)\n",
    "print(np.linalg.norm(dcosdi))\n",
    "print(np.linalg.norm(dcosdi))\n",
    "print(np.linalg.norm(dvijdj))\n",
    "print(np.linalg.norm(dvikdk))"
   ]
  },
  {
   "cell_type": "code",
   "execution_count": 52,
   "metadata": {},
   "outputs": [
    {
     "name": "stdout",
     "output_type": "stream",
     "text": [
      "[ 7.49994375e-01  4.33013327e-01 -5.00000041e-06]\n"
     ]
    }
   ],
   "source": [
    "print(dvijdj + dvikdk)"
   ]
  },
  {
   "cell_type": "code",
   "execution_count": 78,
   "metadata": {},
   "outputs": [
    {
     "name": "stdout",
     "output_type": "stream",
     "text": [
      "1.500000001865821\n",
      "1.7320508088\n",
      "0.866025403938329\n"
     ]
    }
   ],
   "source": [
    "oi = npa([-0.75000000093291042,-1.2990381072925063,-0.0000000000000000 ])\n",
    "oj = npa([5.3309157088676784E-010,1.7320508088000000,0.0000000000000000])\n",
    "ok = npa([0.75000000039981884,-0.43301270150749355,0.0000000000000000])\n",
    "print(np.linalg.norm(oi))\n",
    "print(np.linalg.norm(oj))\n",
    "print(np.linalg.norm(ok))"
   ]
  },
  {
   "cell_type": "code",
   "execution_count": 165,
   "metadata": {},
   "outputs": [
    {
     "name": "stdout",
     "output_type": "stream",
     "text": [
      "0.5000000000000001\n",
      "numerical dcos 0.0 0.7499994374438046\n",
      "numerical dcos 0.043301269569973044 -0.43301238950022025\n",
      "numerical dcos -6.661338147750939e-10 -2.5002222514558525e-07\n",
      "Numerical dvijdj: [ 0.00000000e+00  4.33012696e-02 -6.66133815e-10]\n",
      "Numerical dvikdk: [ 7.49999437e-01 -4.33012390e-01 -2.50022225e-07]\n"
     ]
    }
   ],
   "source": [
    "# check for the derivative of cosine\n",
    "#\n",
    "# Let us change to a situation now where cos(theta) != 0\n",
    "# Here, cos of theta is equal to 0.5\n",
    "def f(a, b):\n",
    "    return np.dot(a, b) / (np.linalg.norm(a) * np.linalg.norm(b))\n",
    "s = 1e-6\n",
    "xi = np.asarray([0,0,0], dtype=float)\n",
    "xj = np.asarray([20,0,0], dtype=float)\n",
    "xk = np.asarray([1/2,np.sqrt(3)/2,0], dtype=float)\n",
    "vij = xj-xi\n",
    "vik = xk-xi\n",
    "vjk = xk-xj\n",
    "rij = np.linalg.norm(vij)\n",
    "rik = np.linalg.norm(vik)\n",
    "rjk = np.linalg.norm(vjk)\n",
    "drijdi = -(xj - xi) / rij\n",
    "drijdj = -drijdi\n",
    "drikdi = -(xk - xi) / rik\n",
    "drikdk = -drikdi\n",
    "drjkdj = -(xk-xj)/rjk\n",
    "drjkdk = -drjkdj\n",
    "cos = f(vij,vik)\n",
    "dvijdj = []\n",
    "dvikdk = []\n",
    "print(cos)\n",
    "for i in range(3):\n",
    "    vijb = np.copy(vij)\n",
    "    vijb[i] += s\n",
    "    vikb = np.copy(vik)\n",
    "    vikb[i] += s\n",
    "    a = f(vij, vik)\n",
    "    b = f(vijb,vik)\n",
    "    num_dcos_j = (b - a)/s \n",
    "    a = f(vij, vik)\n",
    "    b = f(vij,vikb)\n",
    "    num_dcos_k = (b - a)/s \n",
    "    print(\"numerical dcos\", num_dcos_j, num_dcos_k)\n",
    "    dvijdj.append(num_dcos_j)\n",
    "    dvikdk.append(num_dcos_k)    \n",
    "dvijdj = np.asarray(dvijdj)\n",
    "dvikdk = np.asarray(dvikdk)\n",
    "print(\"Numerical dvijdj:\", dvijdj)\n",
    "print(\"Numerical dvikdk:\", dvikdk)"
   ]
  }
 ],
 "metadata": {
  "kernelspec": {
   "display_name": "Python [conda env:mda]",
   "language": "python",
   "name": "conda-env-mda-py"
  },
  "language_info": {
   "codemirror_mode": {
    "name": "ipython",
    "version": 3
   },
   "file_extension": ".py",
   "mimetype": "text/x-python",
   "name": "python",
   "nbconvert_exporter": "python",
   "pygments_lexer": "ipython3",
   "version": "3.6.7"
  }
 },
 "nbformat": 4,
 "nbformat_minor": 2
}
